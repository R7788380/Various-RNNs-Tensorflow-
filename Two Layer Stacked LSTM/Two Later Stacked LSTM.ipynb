{
 "cells": [
  {
   "cell_type": "markdown",
   "metadata": {},
   "source": [
    "# <span style=\"color:green\"> 2 Layer Stacked LSTM"
   ]
  },
  {
   "cell_type": "markdown",
   "metadata": {},
   "source": [
    "# Importing Libraries"
   ]
  },
  {
   "cell_type": "code",
   "execution_count": 1,
   "metadata": {},
   "outputs": [
    {
     "name": "stderr",
     "output_type": "stream",
     "text": [
      "/Library/Frameworks/Python.framework/Versions/3.6/lib/python3.6/site-packages/sklearn/cross_validation.py:41: DeprecationWarning: This module was deprecated in version 0.18 in favor of the model_selection module into which all the refactored classes and functions are moved. Also note that the interface of the new CV iterators are different from that of this module. This module will be removed in 0.20.\n",
      "  \"This module will be removed in 0.20.\", DeprecationWarning)\n"
     ]
    }
   ],
   "source": [
    "import warnings\n",
    "warnings.filterwarnings('ignore')\n",
    "import numpy as np\n",
    "import tensorflow as tf\n",
    "from sklearn import datasets\n",
    "from sklearn.cross_validation import train_test_split\n",
    "import pylab as pl\n",
    "from IPython import display\n",
    "import sys\n",
    "%matplotlib inline"
   ]
  },
  {
   "cell_type": "markdown",
   "metadata": {},
   "source": [
    "# STACKED LSTM class and functions"
   ]
  },
  {
   "cell_type": "code",
   "execution_count": 2,
   "metadata": {},
   "outputs": [],
   "source": [
    "class LSTM_cell(object):\n",
    "\n",
    "    def __init__(self, input_size, hidden_layer_size, target_size):\n",
    "\n",
    "        # Initialization of given values\n",
    "        self.input_size = input_size\n",
    "        self.hidden_layer_size = hidden_layer_size\n",
    "        self.target_size = target_size\n",
    "\n",
    "        \n",
    "        # Weights and Bias for input and hidden tensor\n",
    "        self.Wi_l1 = tf.Variable(tf.truncated_normal(\n",
    "            [self.input_size, self.hidden_layer_size],stddev=.01))\n",
    "        self.Ui_l1 = tf.Variable(tf.truncated_normal(\n",
    "            [self.hidden_layer_size, self.hidden_layer_size],stddev=.01))\n",
    "        self.bi_l1 = tf.Variable(tf.zeros([self.hidden_layer_size]))\n",
    "\n",
    "        \n",
    "        self.Wf_l1 = tf.Variable(tf.truncated_normal(\n",
    "            [self.input_size, self.hidden_layer_size],stddev=.01))\n",
    "        self.Uf_l1 = tf.Variable(tf.truncated_normal(\n",
    "            [self.hidden_layer_size, self.hidden_layer_size],stddev=.01))\n",
    "        self.bf_l1 = tf.Variable(tf.zeros([self.hidden_layer_size]))        \n",
    "        \n",
    "        \n",
    "        self.Wog_l1 = tf.Variable(tf.truncated_normal(\n",
    "            [self.input_size, self.hidden_layer_size],stddev=.01))\n",
    "        self.Uog_l1 = tf.Variable(tf.truncated_normal(\n",
    "            [self.hidden_layer_size, self.hidden_layer_size],stddev=.01))\n",
    "        self.bog_l1 = tf.Variable(tf.zeros([self.hidden_layer_size]))        \n",
    "        \n",
    "        \n",
    "        self.Wc_l1 = tf.Variable(tf.truncated_normal(\n",
    "            [self.input_size, self.hidden_layer_size],stddev=.01))\n",
    "        self.Uc_l1 = tf.Variable(tf.truncated_normal(\n",
    "            [self.hidden_layer_size, self.hidden_layer_size],stddev=.01))\n",
    "        self.bc_l1 = tf.Variable(tf.zeros([self.hidden_layer_size]))        \n",
    "\n",
    "        \n",
    "\n",
    "        \n",
    "        #Weights for layer 2\n",
    "        self.Wi_l2 = tf.Variable(tf.truncated_normal(\n",
    "            [self.hidden_layer_size, self.hidden_layer_size],stddev=.01))\n",
    "        self.Ui_l2 = tf.Variable(tf.truncated_normal(\n",
    "            [self.hidden_layer_size, self.hidden_layer_size],stddev=.01))\n",
    "        self.bi_l2 = tf.Variable(tf.zeros([self.hidden_layer_size]))\n",
    "\n",
    "        \n",
    "        self.Wf_l2 = tf.Variable(tf.truncated_normal(\n",
    "            [self.hidden_layer_size, self.hidden_layer_size],stddev=.01))\n",
    "        self.Uf_l2 = tf.Variable(tf.truncated_normal(\n",
    "            [self.hidden_layer_size, self.hidden_layer_size],stddev=.01))\n",
    "        self.bf_l2 = tf.Variable(tf.zeros([self.hidden_layer_size]))        \n",
    "        \n",
    "        \n",
    "        self.Wog_l2 = tf.Variable(tf.truncated_normal(\n",
    "            [self.hidden_layer_size, self.hidden_layer_size],stddev=.01))\n",
    "        self.Uog_l2 = tf.Variable(tf.truncated_normal(\n",
    "            [self.hidden_layer_size, self.hidden_layer_size],stddev=.01))\n",
    "        self.bog_l2 = tf.Variable(tf.zeros([self.hidden_layer_size]))        \n",
    "        \n",
    "        \n",
    "        self.Wc_l2 = tf.Variable(tf.truncated_normal(\n",
    "            [self.hidden_layer_size, self.hidden_layer_size],stddev=.01))\n",
    "        self.Uc_l2 = tf.Variable(tf.truncated_normal(\n",
    "            [self.hidden_layer_size, self.hidden_layer_size],stddev=.01))\n",
    "        self.bc_l2 = tf.Variable(tf.zeros([self.hidden_layer_size]))        \n",
    "        \n",
    "        \n",
    "        \n",
    "        \n",
    "        # Weights for output layers\n",
    "        self.Wo = tf.Variable(tf.truncated_normal(\n",
    "            [self.hidden_layer_size, self.target_size],mean=0,stddev=.1))\n",
    "        self.bo = tf.Variable(tf.truncated_normal([self.target_size],mean=0,stddev=.1))\n",
    "\n",
    "        # Placeholder for input vector with shape[batch, seq, embeddings]\n",
    "        self._inputs = tf.placeholder(tf.float32,\n",
    "                                      shape=[None, None, self.input_size],\n",
    "                                      name='inputs')\n",
    "\n",
    "        # Processing inputs to work with scan function\n",
    "        self.processed_input = process_batch_input_for_RNN(self._inputs)\n",
    "\n",
    "\n",
    "        self.initial_hidden = self._inputs[:, 0, :]\n",
    "        self.initial_hidden= tf.matmul(\n",
    "            self.initial_hidden, tf.zeros([input_size, hidden_layer_size]))\n",
    "        \n",
    "        self.initial_hidden=tf.stack([self.initial_hidden,self.initial_hidden,self.initial_hidden,self.initial_hidden])\n",
    "    # Function for LSTM cell.\n",
    "    def Lstm(self, previous_hidden_memory_tuple, x):\n",
    "        \n",
    "        previous_hidden_state_l1,c_prev_l1,previous_hidden_state_l2,c_prev_l2=tf.unstack(previous_hidden_memory_tuple)\n",
    "        \n",
    "        #Input Gate\n",
    "        i_l1= tf.sigmoid(\n",
    "            tf.matmul(x,self.Wi_l1)+tf.matmul(previous_hidden_state_l1,self.Ui_l1) + self.bi_l1 \n",
    "        )\n",
    "        \n",
    "        #Forget Gate\n",
    "        f_l1= tf.sigmoid(\n",
    "            tf.matmul(x,self.Wf_l1)+tf.matmul(previous_hidden_state_l1,self.Uf_l1) + self.bf_l1 \n",
    "        )\n",
    "        \n",
    "        #Output Gate\n",
    "        o_l1= tf.sigmoid(\n",
    "            tf.matmul(x,self.Wog_l1)+tf.matmul(previous_hidden_state_l1,self.Uog_l1) + self.bog_l1\n",
    "        )\n",
    "        \n",
    "        #New Memory Cell\n",
    "        c__l1= tf.nn.tanh(\n",
    "            tf.matmul(x,self.Wc_l1)+tf.matmul(previous_hidden_state_l1,self.Uc_l1) + self.bc_l1 \n",
    "        ) \n",
    "        \n",
    "        #Final Memory cell\n",
    "        c_l1= f_l1*c_prev_l1 + i_l1*c__l1\n",
    "        \n",
    "        #Current Hidden state\n",
    "        current_hidden_state_l1 = o_l1*tf.nn.tanh(c_l1)\n",
    "\n",
    "\n",
    "        \n",
    "        \n",
    "        \n",
    "        #Input Gate for layer 2\n",
    "        i_l2= tf.sigmoid(\n",
    "            tf.matmul(current_hidden_state_l1,self.Wi_l2)+tf.matmul(previous_hidden_state_l2,self.Ui_l2) + self.bi_l2 \n",
    "        )\n",
    "        \n",
    "        #Forget Gate for layer 2\n",
    "        f_l2= tf.sigmoid(\n",
    "            tf.matmul(current_hidden_state_l1,self.Wf_l2)+tf.matmul(previous_hidden_state_l2,self.Uf_l2) + self.bf_l2 \n",
    "        )\n",
    "        \n",
    "        #Output Gate for layer 2\n",
    "        o_l2= tf.sigmoid(\n",
    "            tf.matmul(current_hidden_state_l1,self.Wog_l2)+tf.matmul(previous_hidden_state_l2,self.Uog_l2) + self.bog_l2\n",
    "        )\n",
    "        \n",
    "        #New Memory Cell for layer 2\n",
    "        c__l2= tf.nn.tanh(\n",
    "            tf.matmul(current_hidden_state_l1,self.Wc_l2)+tf.matmul(previous_hidden_state_l2,self.Uc_l2) + self.bc_l2\n",
    "        ) \n",
    "        \n",
    "        #Final Memory cell for layer 2\n",
    "        c_l2= f_l2*c_prev_l2 + i_l2*c__l2\n",
    "        \n",
    "        #Current Hidden state\n",
    "        current_hidden_state_l2 = o_l2*tf.nn.tanh(c_l2)        \n",
    "        \n",
    "        \n",
    "\n",
    "        return tf.stack([current_hidden_state_l1,c_l1,current_hidden_state_l2,c_l2])\n",
    "\n",
    "    # Function for getting all hidden state.\n",
    "    def get_states(self):\n",
    "\n",
    "        # Getting all hidden state though time\n",
    "        all_hidden_states = tf.scan(self.Lstm,\n",
    "                                    self.processed_input,\n",
    "                                    initializer=self.initial_hidden,\n",
    "                                    name='states')\n",
    "        all_hidden_states=all_hidden_states[:,2,:,:]\n",
    "        # 接收4個initial, 對應layer1及layer2的hidden_state, cell, 這裡要挑出第三個, 也就是layer2的hidden_state\n",
    "        return all_hidden_states\n",
    "\n",
    "    def get_states2(self):\n",
    "\n",
    "        # Getting all hidden state though time\n",
    "        all_hidden_states2 = tf.scan(self.Lstm,\n",
    "                                    self.processed_input,\n",
    "                                    initializer=self.initial_hidden, # 接收4個initial, 對應layer1及layer2的hidden_state, cell\n",
    "                                    name='states')\n",
    "        return all_hidden_states2\n",
    "    \n",
    "    # Function to get output from a hidden layer\n",
    "    def get_output(self, hidden_state):\n",
    "\n",
    "        output = tf.matmul(hidden_state, self.Wo) + self.bo\n",
    "\n",
    "        return output\n",
    "\n",
    "    # Function for getting all output layers\n",
    "    def get_outputs(self):\n",
    "\n",
    "        all_hidden_states = self.get_states()\n",
    "\n",
    "        all_outputs = tf.map_fn(self.get_output, all_hidden_states)\n",
    "\n",
    "        return all_outputs\n",
    "\n",
    "\n",
    "# Function to convert batch input data to use tf.scan ops of tensorflow.\n",
    "def process_batch_input_for_RNN(batch_input):\n",
    "\n",
    "    batch_input_ = tf.transpose(batch_input, perm=[1, 0, 2])\n",
    "    X = tf.transpose(batch_input_)\n",
    "\n",
    "    return X\n"
   ]
  },
  {
   "cell_type": "markdown",
   "metadata": {},
   "source": [
    "# Placeholder and initializers\n"
   ]
  },
  {
   "cell_type": "code",
   "execution_count": 3,
   "metadata": {},
   "outputs": [],
   "source": [
    "hidden_layer_size = 50\n",
    "input_size = 8\n",
    "target_size = 10"
   ]
  },
  {
   "cell_type": "code",
   "execution_count": 4,
   "metadata": {},
   "outputs": [],
   "source": [
    "y = tf.placeholder(tf.float32, shape=[None, target_size],name='inputs')"
   ]
  },
  {
   "cell_type": "markdown",
   "metadata": {},
   "source": [
    "# Models"
   ]
  },
  {
   "cell_type": "code",
   "execution_count": 5,
   "metadata": {
    "scrolled": true
   },
   "outputs": [],
   "source": [
    "#Initializing rnn object\n",
    "rnn=LSTM_cell( input_size, hidden_layer_size=hidden_layer_size, target_size=target_size)"
   ]
  },
  {
   "cell_type": "code",
   "execution_count": 6,
   "metadata": {},
   "outputs": [],
   "source": [
    "#Getting all outputs from rnn\n",
    "outputs = rnn.get_outputs()"
   ]
  },
  {
   "cell_type": "code",
   "execution_count": 7,
   "metadata": {},
   "outputs": [],
   "source": [
    "state2 = rnn.get_states2() # 會輸出(timesteps,4,batch,hidden_layer_size)，4分別是layer1及layer2的hidden_state以及cell"
   ]
  },
  {
   "cell_type": "code",
   "execution_count": 8,
   "metadata": {},
   "outputs": [],
   "source": [
    "#Getting final output through indexing after reversing\n",
    "last_output = outputs[-1]"
   ]
  },
  {
   "cell_type": "code",
   "execution_count": 9,
   "metadata": {},
   "outputs": [],
   "source": [
    "#Computing the Cross Entropy loss \n",
    "loss = tf.reduce_sum(tf.nn.softmax_cross_entropy_with_logits_v2(logits=last_output, labels=y))"
   ]
  },
  {
   "cell_type": "code",
   "execution_count": 10,
   "metadata": {},
   "outputs": [],
   "source": [
    "# Trainning with Adadelta Optimizer\n",
    "train_step = tf.train.AdamOptimizer().minimize(loss)"
   ]
  },
  {
   "cell_type": "code",
   "execution_count": 11,
   "metadata": {},
   "outputs": [],
   "source": [
    "#Calculatio of correct prediction and accuracy\n",
    "correct_prediction = tf.equal(tf.argmax(y,1), tf.argmax(last_output,1))\n",
    "accuracy = (tf.reduce_mean(tf.cast(correct_prediction, tf.float32)))*100"
   ]
  },
  {
   "cell_type": "markdown",
   "metadata": {},
   "source": [
    "# Dataset Preparation"
   ]
  },
  {
   "cell_type": "code",
   "execution_count": 12,
   "metadata": {},
   "outputs": [],
   "source": [
    "#Function to get on hot\n",
    "def get_on_hot(number):\n",
    "    on_hot=[0]*10\n",
    "    on_hot[number]=1\n",
    "    return on_hot\n",
    "    "
   ]
  },
  {
   "cell_type": "code",
   "execution_count": 13,
   "metadata": {},
   "outputs": [],
   "source": [
    "#Using Sklearn MNIST dataset.\n",
    "digits = datasets.load_digits()\n",
    "X=digits.images\n",
    "Y_=digits.target\n",
    "\n",
    "Y=list(map(get_on_hot,Y_))"
   ]
  },
  {
   "cell_type": "code",
   "execution_count": 14,
   "metadata": {
    "scrolled": true
   },
   "outputs": [],
   "source": [
    "#Getting Train and test Dataset\n",
    "X_train, X_test, y_train, y_test = train_test_split(X, Y, test_size=0.22, random_state=42)\n",
    "\n",
    "#Cuttting for simple iteration\n",
    "X_train=X_train[:1400]\n",
    "y_train=y_train[:1400]"
   ]
  },
  {
   "cell_type": "code",
   "execution_count": 15,
   "metadata": {},
   "outputs": [],
   "source": [
    "sess=tf.Session()\n",
    "sess.run(tf.global_variables_initializer())"
   ]
  },
  {
   "cell_type": "code",
   "execution_count": 16,
   "metadata": {
    "scrolled": false
   },
   "outputs": [
    {
     "name": "stdout",
     "output_type": "stream",
     "text": [
      "Epoch=1/120, train_loss=230.11, train_acc=9.86 / test_loss=901.36, test_acc=10.61\n",
      "Epoch=2/120, train_loss=218.76, train_acc=23.71 / test_loss=795.23, test_acc=34.85\n",
      "Epoch=3/120, train_loss=177.07, train_acc=42.43 / test_loss=604.55, test_acc=44.95\n",
      "Epoch=4/120, train_loss=131.89, train_acc=59.43 / test_loss=444.93, test_acc=68.69\n",
      "Epoch=5/120, train_loss=100.47, train_acc=71.79 / test_loss=350.20, test_acc=76.26\n",
      "Epoch=6/120, train_loss=79.05, train_acc=79.29 / test_loss=275.09, test_acc=81.06\n",
      "Epoch=7/120, train_loss=64.49, train_acc=81.93 / test_loss=222.40, test_acc=85.86\n",
      "Epoch=8/120, train_loss=53.16, train_acc=84.86 / test_loss=186.15, test_acc=87.88\n",
      "Epoch=9/120, train_loss=44.74, train_acc=87.21 / test_loss=158.94, test_acc=89.14\n",
      "Epoch=10/120, train_loss=38.07, train_acc=89.71 / test_loss=137.22, test_acc=90.91\n",
      "Epoch=11/120, train_loss=32.76, train_acc=91.07 / test_loss=120.65, test_acc=91.67\n",
      "Epoch=12/120, train_loss=28.70, train_acc=92.43 / test_loss=106.95, test_acc=92.17\n",
      "Epoch=13/120, train_loss=25.32, train_acc=93.57 / test_loss=95.49, test_acc=93.43\n",
      "Epoch=14/120, train_loss=22.61, train_acc=94.21 / test_loss=85.59, test_acc=94.19\n",
      "Epoch=15/120, train_loss=20.24, train_acc=95.00 / test_loss=77.84, test_acc=94.44\n",
      "Epoch=16/120, train_loss=18.03, train_acc=95.43 / test_loss=72.99, test_acc=94.70\n",
      "Epoch=17/120, train_loss=15.97, train_acc=96.43 / test_loss=71.70, test_acc=94.70\n",
      "Epoch=18/120, train_loss=14.50, train_acc=96.64 / test_loss=71.89, test_acc=94.95\n",
      "Epoch=19/120, train_loss=13.49, train_acc=96.93 / test_loss=70.80, test_acc=94.95\n",
      "Epoch=20/120, train_loss=12.48, train_acc=97.07 / test_loss=62.54, test_acc=95.96\n",
      "Epoch=21/120, train_loss=11.09, train_acc=97.36 / test_loss=56.45, test_acc=95.71\n",
      "Epoch=22/120, train_loss=9.27, train_acc=98.00 / test_loss=53.37, test_acc=95.96\n",
      "Epoch=23/120, train_loss=7.99, train_acc=98.79 / test_loss=49.13, test_acc=96.97\n",
      "Epoch=24/120, train_loss=7.43, train_acc=98.86 / test_loss=50.51, test_acc=96.97\n",
      "Epoch=25/120, train_loss=6.92, train_acc=98.86 / test_loss=53.75, test_acc=95.96\n",
      "Epoch=26/120, train_loss=6.50, train_acc=98.79 / test_loss=51.91, test_acc=95.71\n",
      "Epoch=27/120, train_loss=6.08, train_acc=98.93 / test_loss=50.19, test_acc=96.21\n",
      "Epoch=28/120, train_loss=5.78, train_acc=99.07 / test_loss=50.53, test_acc=96.72\n",
      "Epoch=29/120, train_loss=5.39, train_acc=99.21 / test_loss=56.01, test_acc=95.96\n",
      "Epoch=30/120, train_loss=5.38, train_acc=99.00 / test_loss=54.66, test_acc=96.46\n",
      "Epoch=31/120, train_loss=5.14, train_acc=99.14 / test_loss=56.85, test_acc=95.20\n",
      "Epoch=32/120, train_loss=6.36, train_acc=98.50 / test_loss=61.04, test_acc=95.96\n",
      "Epoch=33/120, train_loss=5.70, train_acc=98.50 / test_loss=46.85, test_acc=96.72\n",
      "Epoch=34/120, train_loss=5.97, train_acc=98.36 / test_loss=38.72, test_acc=96.97\n",
      "Epoch=35/120, train_loss=5.36, train_acc=98.57 / test_loss=42.94, test_acc=97.47\n",
      "Epoch=36/120, train_loss=5.57, train_acc=98.64 / test_loss=41.59, test_acc=96.46\n",
      "Epoch=37/120, train_loss=5.09, train_acc=98.93 / test_loss=40.79, test_acc=97.22\n",
      "Epoch=38/120, train_loss=4.90, train_acc=98.79 / test_loss=58.80, test_acc=95.20\n",
      "Epoch=39/120, train_loss=4.98, train_acc=98.86 / test_loss=52.87, test_acc=95.71\n",
      "Epoch=40/120, train_loss=4.47, train_acc=98.79 / test_loss=34.12, test_acc=97.47\n",
      "Epoch=41/120, train_loss=2.39, train_acc=99.71 / test_loss=30.14, test_acc=98.48\n",
      "Epoch=42/120, train_loss=2.16, train_acc=99.64 / test_loss=31.06, test_acc=97.47\n",
      "Epoch=43/120, train_loss=1.85, train_acc=99.79 / test_loss=29.19, test_acc=97.73\n",
      "Epoch=44/120, train_loss=1.64, train_acc=99.79 / test_loss=29.09, test_acc=97.98\n",
      "Epoch=45/120, train_loss=1.54, train_acc=99.86 / test_loss=30.15, test_acc=97.47\n",
      "Epoch=46/120, train_loss=1.44, train_acc=99.79 / test_loss=28.19, test_acc=97.73\n",
      "Epoch=47/120, train_loss=1.31, train_acc=99.86 / test_loss=28.81, test_acc=97.73\n",
      "Epoch=48/120, train_loss=1.24, train_acc=99.93 / test_loss=29.18, test_acc=97.47\n",
      "Epoch=49/120, train_loss=1.17, train_acc=99.93 / test_loss=28.16, test_acc=97.73\n",
      "Epoch=50/120, train_loss=1.10, train_acc=100.00 / test_loss=28.32, test_acc=97.73\n",
      "Epoch=51/120, train_loss=1.05, train_acc=100.00 / test_loss=28.21, test_acc=97.73\n",
      "Epoch=52/120, train_loss=0.99, train_acc=100.00 / test_loss=27.86, test_acc=97.73\n",
      "Epoch=53/120, train_loss=0.94, train_acc=100.00 / test_loss=27.97, test_acc=97.73\n",
      "Epoch=54/120, train_loss=0.90, train_acc=100.00 / test_loss=27.85, test_acc=97.73\n",
      "Epoch=55/120, train_loss=0.86, train_acc=100.00 / test_loss=27.79, test_acc=97.73\n",
      "Epoch=56/120, train_loss=0.82, train_acc=100.00 / test_loss=27.80, test_acc=97.73\n",
      "Epoch=57/120, train_loss=0.78, train_acc=100.00 / test_loss=27.74, test_acc=97.73\n",
      "Epoch=58/120, train_loss=0.75, train_acc=100.00 / test_loss=27.72, test_acc=97.73\n",
      "Epoch=59/120, train_loss=0.72, train_acc=100.00 / test_loss=27.70, test_acc=97.73\n",
      "Epoch=60/120, train_loss=0.69, train_acc=100.00 / test_loss=27.67, test_acc=97.73\n",
      "Epoch=61/120, train_loss=0.66, train_acc=100.00 / test_loss=27.66, test_acc=97.73\n",
      "Epoch=62/120, train_loss=0.64, train_acc=100.00 / test_loss=27.64, test_acc=97.73\n",
      "Epoch=63/120, train_loss=0.61, train_acc=100.00 / test_loss=27.63, test_acc=97.73\n",
      "Epoch=64/120, train_loss=0.59, train_acc=100.00 / test_loss=27.61, test_acc=97.73\n",
      "Epoch=65/120, train_loss=0.57, train_acc=100.00 / test_loss=27.60, test_acc=97.73\n",
      "Epoch=66/120, train_loss=0.55, train_acc=100.00 / test_loss=27.59, test_acc=97.73\n",
      "Epoch=67/120, train_loss=0.53, train_acc=100.00 / test_loss=27.58, test_acc=97.73\n",
      "Epoch=68/120, train_loss=0.51, train_acc=100.00 / test_loss=27.58, test_acc=97.73\n",
      "Epoch=69/120, train_loss=0.50, train_acc=100.00 / test_loss=27.57, test_acc=97.73\n",
      "Epoch=70/120, train_loss=0.48, train_acc=100.00 / test_loss=27.56, test_acc=97.73\n",
      "Epoch=71/120, train_loss=0.46, train_acc=100.00 / test_loss=27.56, test_acc=97.73\n",
      "Epoch=72/120, train_loss=0.45, train_acc=100.00 / test_loss=27.55, test_acc=97.73\n",
      "Epoch=73/120, train_loss=0.44, train_acc=100.00 / test_loss=27.54, test_acc=97.73\n",
      "Epoch=74/120, train_loss=0.42, train_acc=100.00 / test_loss=27.54, test_acc=97.73\n",
      "Epoch=75/120, train_loss=0.41, train_acc=100.00 / test_loss=27.53, test_acc=97.73\n",
      "Epoch=76/120, train_loss=0.40, train_acc=100.00 / test_loss=27.52, test_acc=97.73\n",
      "Epoch=77/120, train_loss=0.39, train_acc=100.00 / test_loss=27.51, test_acc=97.73\n",
      "Epoch=78/120, train_loss=0.38, train_acc=100.00 / test_loss=27.50, test_acc=97.73\n",
      "Epoch=79/120, train_loss=0.36, train_acc=100.00 / test_loss=27.49, test_acc=97.73\n",
      "Epoch=80/120, train_loss=0.35, train_acc=100.00 / test_loss=27.48, test_acc=97.73\n",
      "Epoch=81/120, train_loss=0.34, train_acc=100.00 / test_loss=27.47, test_acc=97.73\n",
      "Epoch=82/120, train_loss=0.34, train_acc=100.00 / test_loss=27.46, test_acc=97.73\n",
      "Epoch=83/120, train_loss=0.33, train_acc=100.00 / test_loss=27.45, test_acc=97.73\n",
      "Epoch=84/120, train_loss=0.32, train_acc=100.00 / test_loss=27.43, test_acc=97.73\n",
      "Epoch=85/120, train_loss=0.31, train_acc=100.00 / test_loss=27.42, test_acc=97.73\n",
      "Epoch=86/120, train_loss=0.30, train_acc=100.00 / test_loss=27.41, test_acc=97.73\n",
      "Epoch=87/120, train_loss=0.29, train_acc=100.00 / test_loss=27.40, test_acc=97.73\n",
      "Epoch=88/120, train_loss=0.29, train_acc=100.00 / test_loss=27.39, test_acc=97.73\n",
      "Epoch=89/120, train_loss=0.28, train_acc=100.00 / test_loss=27.38, test_acc=97.73\n",
      "Epoch=90/120, train_loss=0.27, train_acc=100.00 / test_loss=27.37, test_acc=97.73\n",
      "Epoch=91/120, train_loss=0.27, train_acc=100.00 / test_loss=27.36, test_acc=97.73\n",
      "Epoch=92/120, train_loss=0.26, train_acc=100.00 / test_loss=27.35, test_acc=97.73\n",
      "Epoch=93/120, train_loss=0.25, train_acc=100.00 / test_loss=27.34, test_acc=97.73\n",
      "Epoch=94/120, train_loss=0.25, train_acc=100.00 / test_loss=27.33, test_acc=97.73\n",
      "Epoch=95/120, train_loss=0.24, train_acc=100.00 / test_loss=27.32, test_acc=97.73\n",
      "Epoch=96/120, train_loss=0.24, train_acc=100.00 / test_loss=27.32, test_acc=97.73\n",
      "Epoch=97/120, train_loss=0.23, train_acc=100.00 / test_loss=27.31, test_acc=97.73\n",
      "Epoch=98/120, train_loss=0.23, train_acc=100.00 / test_loss=27.30, test_acc=97.73\n",
      "Epoch=99/120, train_loss=0.22, train_acc=100.00 / test_loss=27.30, test_acc=97.73\n",
      "Epoch=100/120, train_loss=0.22, train_acc=100.00 / test_loss=27.29, test_acc=97.73\n",
      "Epoch=101/120, train_loss=0.21, train_acc=100.00 / test_loss=27.28, test_acc=97.73\n",
      "Epoch=102/120, train_loss=0.21, train_acc=100.00 / test_loss=27.28, test_acc=97.73\n"
     ]
    },
    {
     "name": "stdout",
     "output_type": "stream",
     "text": [
      "Epoch=103/120, train_loss=0.20, train_acc=100.00 / test_loss=27.28, test_acc=97.73\n",
      "Epoch=104/120, train_loss=0.20, train_acc=100.00 / test_loss=27.27, test_acc=97.73\n",
      "Epoch=105/120, train_loss=0.20, train_acc=100.00 / test_loss=27.27, test_acc=97.73\n",
      "Epoch=106/120, train_loss=0.19, train_acc=100.00 / test_loss=27.26, test_acc=97.73\n",
      "Epoch=107/120, train_loss=0.19, train_acc=100.00 / test_loss=27.26, test_acc=97.73\n",
      "Epoch=108/120, train_loss=0.18, train_acc=100.00 / test_loss=27.26, test_acc=97.73\n",
      "Epoch=109/120, train_loss=0.18, train_acc=100.00 / test_loss=27.26, test_acc=97.73\n",
      "Epoch=110/120, train_loss=0.18, train_acc=100.00 / test_loss=27.26, test_acc=97.73\n",
      "Epoch=111/120, train_loss=0.17, train_acc=100.00 / test_loss=27.25, test_acc=97.73\n",
      "Epoch=112/120, train_loss=0.17, train_acc=100.00 / test_loss=27.25, test_acc=97.73\n",
      "Epoch=113/120, train_loss=0.17, train_acc=100.00 / test_loss=27.25, test_acc=97.73\n",
      "Epoch=114/120, train_loss=0.16, train_acc=100.00 / test_loss=27.25, test_acc=97.73\n",
      "Epoch=115/120, train_loss=0.16, train_acc=100.00 / test_loss=27.25, test_acc=97.73\n",
      "Epoch=116/120, train_loss=0.16, train_acc=100.00 / test_loss=27.25, test_acc=97.73\n",
      "Epoch=117/120, train_loss=0.15, train_acc=100.00 / test_loss=27.25, test_acc=97.73\n",
      "Epoch=118/120, train_loss=0.15, train_acc=100.00 / test_loss=27.25, test_acc=97.73\n",
      "Epoch=119/120, train_loss=0.15, train_acc=100.00 / test_loss=27.25, test_acc=97.73\n",
      "Epoch=120/120, train_loss=0.15, train_acc=100.00 / test_loss=27.25, test_acc=97.73\n"
     ]
    }
   ],
   "source": [
    "#Iterations to do trainning\n",
    "train_loss = []\n",
    "test_loss = []\n",
    "train_acc = []\n",
    "test_acc = []\n",
    "\n",
    "for epoch in range(120):\n",
    "    \n",
    "    start=0\n",
    "    end=100\n",
    "    \n",
    "    train_loss_collector = []\n",
    "    test_loss_collector = []\n",
    "    train_acc_collector = []\n",
    "    test_acc_collector = []\n",
    "    \n",
    "    for i in range(14):\n",
    "        \n",
    "        X=X_train[start:end]\n",
    "        Y=y_train[start:end]\n",
    "        start=end\n",
    "        end=start+100 # 每次訓練100張圖片\n",
    "        _, train_loss_batch, train_acc_batch = sess.run([train_step, loss, accuracy],feed_dict={rnn._inputs:X, y:Y})\n",
    "        \n",
    "        train_loss_collector.append(train_loss_batch)\n",
    "        train_acc_collector.append(train_acc_batch)\n",
    "    \n",
    "    state2_ = sess.run([state2],feed_dict={rnn._inputs:X})\n",
    "    outputs_1 = sess.run([outputs],feed_dict={rnn._inputs:X})\n",
    "    last_output_1 = sess.run([last_output],feed_dict={rnn._inputs:X})\n",
    "    train_loss_collector = np.mean(train_loss_collector) # 平均一個batch的loss\n",
    "    train_acc_collector = np.mean(train_acc_collector) # 平均一個batch的acc\n",
    "    \n",
    "    train_loss.append(train_loss_collector)\n",
    "    train_acc.append(train_acc_collector)\n",
    "    \n",
    "    #Loss=str(sess.run(cross_entropy,feed_dict={rnn._inputs:X, y:Y}))\n",
    "    #Train_accuracy=sess.run(accuracy,feed_dict={rnn._inputs:X_train[:500], y:y_train[:500]})\n",
    "    \n",
    "    test_loss_=sess.run(loss,feed_dict={rnn._inputs:X_test, y:y_test})\n",
    "    test_acc_=sess.run(accuracy,feed_dict={rnn._inputs:X_test, y:y_test})\n",
    "    \n",
    "    test_loss.append(test_loss_)\n",
    "    test_acc.append(test_acc_)\n",
    "    \n",
    "    print('Epoch=%d/120, train_loss=%.2f, train_acc=%.2f / test_loss=%.2f, test_acc=%.2f' % \n",
    "          (epoch+1, train_loss_collector, train_acc_collector, test_loss_, test_acc_))"
   ]
  },
  {
   "cell_type": "code",
   "execution_count": 17,
   "metadata": {},
   "outputs": [],
   "source": [
    "from matplotlib.pylab import rcParams\n",
    "import matplotlib.pyplot as plt\n",
    "rcParams['figure.figsize'] = (12,8)"
   ]
  },
  {
   "cell_type": "code",
   "execution_count": 18,
   "metadata": {},
   "outputs": [
    {
     "data": {
      "image/png": "[encoded data removed]",
      "text/plain": [
       "<Figure size 864x576 with 2 Axes>"
      ]
     },
     "metadata": {},
     "output_type": "display_data"
    }
   ],
   "source": [
    "fig, axes = plt.subplots(1,2)\n",
    "\n",
    "axes[0].plot(np.arange(120), train_loss, label='train_loss')\n",
    "axes[0].plot(np.arange(120), test_loss, label='test_loss')\n",
    "axes[0].legend(loc='upper right',prop={'size':12})\n",
    "\n",
    "axes[1].plot(np.arange(120), train_acc, label='train_acc')\n",
    "axes[1].plot(np.arange(120), test_acc, label='test_acc')\n",
    "axes[1].legend(loc='lower right',prop={'size':12})\n",
    "\n",
    "plt.show()"
   ]
  },
  {
   "cell_type": "code",
   "execution_count": 19,
   "metadata": {},
   "outputs": [
    {
     "name": "stdout",
     "output_type": "stream",
     "text": [
      "Min train loss:0.15\n",
      "Max train accuracy:100.00\n",
      "------------------------\n",
      "Min test loss:27.25\n",
      "Max test accuracy:98.48\n"
     ]
    }
   ],
   "source": [
    "print('Min train loss:%.2f' % np.min(train_loss))\n",
    "print('Max train accuracy:%.2f' % np.max(train_acc))\n",
    "print('------------------------')\n",
    "print('Min test loss:%.2f' % np.min(test_loss))\n",
    "print('Max test accuracy:%.2f' % np.max(test_acc))"
   ]
  },
  {
   "cell_type": "code",
   "execution_count": null,
   "metadata": {},
   "outputs": [],
   "source": []
  }
 ],
 "metadata": {
  "kernelspec": {
   "display_name": "Python 3",
   "language": "python",
   "name": "python3"
  },
  "language_info": {
   "codemirror_mode": {
    "name": "ipython",
    "version": 3
   },
   "file_extension": ".py",
   "mimetype": "text/x-python",
   "name": "python",
   "nbconvert_exporter": "python",
   "pygments_lexer": "ipython3",
   "version": "3.6.6"
  }
 },
 "nbformat": 4,
 "nbformat_minor": 1
}
