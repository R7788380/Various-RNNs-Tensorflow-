{
 "cells": [
  {
   "cell_type": "markdown",
   "metadata": {},
   "source": [
    "# <span style=\"color:green\"> LSTM RNN "
   ]
  },
  {
   "cell_type": "markdown",
   "metadata": {},
   "source": [
    "# Importing Libraries"
   ]
  },
  {
   "cell_type": "code",
   "execution_count": 1,
   "metadata": {},
   "outputs": [],
   "source": [
    "import warnings\n",
    "warnings.filterwarnings('ignore')\n",
    "import numpy as np\n",
    "import tensorflow as tf\n",
    "from sklearn import datasets\n",
    "from sklearn.model_selection import train_test_split\n",
    "# import pylab as pl\n",
    "import matplotlib.pyplot as plt\n",
    "from IPython import display\n",
    "import sys\n",
    "%matplotlib inline"
   ]
  },
  {
   "cell_type": "markdown",
   "metadata": {},
   "source": [
    "# LSTM class and functions"
   ]
  },
  {
   "cell_type": "markdown",
   "metadata": {},
   "source": [
    "$$\n",
    "\\begin{align}\n",
    "Input\\;activation: &z^t=g(W_zx^t+R_zy^{t-1}+b_z)=g(z_a^t) \\\\\n",
    "Input\\;gate: &i^t=\\sigma(W_ix^t+R_iy^{t-1}+b_i)=\\sigma(i_a^t) \\\\\n",
    "Forget\\;gate: &f^t=\\sigma(W_fx^t+R_fy^{t-1}+b_f)=\\sigma(f_a^t) \\\\\n",
    "Memory\\;Cell: &c^t=i^tz^t+f^tc^{t-1} \\\\\n",
    "Output\\;gate: &o^t=\\sigma(W_ox^t+R_oy^{t-1}+b_o)=\\sigma(o_a^t) \\\\\n",
    "Hidden\\;state: &y^t=o^th(c^t)=o^tc_h^t\n",
    "\\end{align}\n",
    "$$"
   ]
  },
  {
   "cell_type": "code",
   "execution_count": 2,
   "metadata": {},
   "outputs": [],
   "source": [
    "class LSTM_cell(object):\n",
    "\n",
    "\n",
    "    def __init__(self, input_size, hidden_layer_size, target_size):\n",
    "\n",
    "        # Initialization of given values\n",
    "        self.input_size = input_size\n",
    "        self.hidden_layer_size = hidden_layer_size\n",
    "        self.target_size = target_size\n",
    "                \n",
    "        # input gate的參數, x_t * W + y_{t-1} * U + b_t\n",
    "        # Weights and Bias for input and hidden tensor\n",
    "        self.Wi = tf.Variable(tf.truncated_normal( # t時間點的參數\n",
    "            [self.input_size, self.hidden_layer_size],stddev=.01))\n",
    "        self.Ui = tf.Variable(tf.truncated_normal( # t-1時間點的參數\n",
    "            [self.hidden_layer_size, self.hidden_layer_size],stddev=.01))\n",
    "        self.bi = tf.Variable(tf.zeros([self.hidden_layer_size])) # t時間點參數\n",
    "\n",
    "        # forget gate的參數\n",
    "        self.Wf = tf.Variable(tf.truncated_normal(\n",
    "            [self.input_size, self.hidden_layer_size],stddev=.01))\n",
    "        self.Uf = tf.Variable(tf.truncated_normal(\n",
    "            [self.hidden_layer_size, self.hidden_layer_size],stddev=.01))\n",
    "        self.bf = tf.Variable(tf.zeros([self.hidden_layer_size]))        \n",
    "        \n",
    "        # output gate的參數\n",
    "        self.Wog = tf.Variable(tf.truncated_normal(\n",
    "            [self.input_size, self.hidden_layer_size],stddev=.01))\n",
    "        self.Uog = tf.Variable(tf.truncated_normal(\n",
    "            [self.hidden_layer_size, self.hidden_layer_size],stddev=.01))\n",
    "        self.bog = tf.Variable(tf.zeros([self.hidden_layer_size]))        \n",
    "        \n",
    "        # input activation的參數\n",
    "        self.Wz = tf.Variable(tf.truncated_normal(\n",
    "            [self.input_size, self.hidden_layer_size],stddev=.01))\n",
    "        self.Uz = tf.Variable(tf.truncated_normal(\n",
    "            [self.hidden_layer_size, self.hidden_layer_size],stddev=.01))\n",
    "        self.bz = tf.Variable(tf.zeros([self.hidden_layer_size]))        \n",
    "        \n",
    "        \n",
    "        \n",
    "        # Weights for output layers\n",
    "        self.Wo = tf.Variable(tf.truncated_normal( # 自訂均值及標準差, truncated表示如果正態分布的值若與均值的差超過兩倍標準差，就重新生成\n",
    "            [self.hidden_layer_size, self.target_size],mean=0,stddev=.01))\n",
    "        self.bo = tf.Variable(tf.truncated_normal([self.target_size],mean=0,stddev=.01))\n",
    "\n",
    "        # Placeholder for input vector with shape(batch,timesteps,features)\n",
    "        self._inputs = tf.placeholder(tf.float32,\n",
    "                                      shape=[None, None, self.input_size],\n",
    "                                      name='inputs')\n",
    "\n",
    "        # Processing inputs to work with scan function(timesteps,batch,features)\n",
    "        self.processed_input = process_batch_input_for_RNN(self._inputs)\n",
    "        # 使用transpose將input從[batch,timesteps,features]轉成[timesteps,batch,features]，是為了後面tf.scan使用\n",
    "        # 每次計算[1,batch,feature]，也就是所有batch資料的第一個timestep\n",
    "\n",
    "        #==================================================================\n",
    "        # 在第一個timestep的hidden_state以及cell裏的值，兩者shape皆為[batch,hidden_layer_size]\n",
    "        # 如果沒有特別指定，就全部設為0\n",
    "        self.initial_hidden = self._inputs[:, 0, :] # 挑出第一個timestep , shape為[batch,input_size], 中間的timestep維度會不見\n",
    "        self.initial_hidden= tf.matmul(\n",
    "            self.initial_hidden, tf.zeros([input_size, hidden_layer_size])) \n",
    "        # [batch,input_size]*[input_size,hidden_layer_size] = [batch, hidden_layer_size]\n",
    "        # 可以直接寫self.initial_hidden = tf.zero([None, hidden_layer_size])\n",
    "        \n",
    "        self.initial_cell = self.initial_hidden # 兩者shape一樣，在initial階段也全部都是零\n",
    "        \n",
    "        # tf.stack([a,b],axis=0)，矩陣拼接，合併a與b，axis=0表示多新增一個維度\n",
    "        # tf.stack的目的是拼接兩個tensor，shape為[2,batch,hidden_layer_size]，是為了給tf.scan使用\n",
    "        self.initial_hidden_cell=tf.stack([self.initial_hidden,self.initial_cell])\n",
    "        \n",
    "    # Function for LSTM cell.，定義一個function，用於每一個timestep的計算\n",
    "    def Lstm(self, previous_hidden_memory_tuple, x):\n",
    "\n",
    "        # 每次都會拿上一個timestep的hidden_state與cell的值\n",
    "        previous_hidden_state,c_prev=tf.unstack(previous_hidden_memory_tuple) # 按照第一維度分解\n",
    "        \n",
    "        #Input Gate\n",
    "        i= tf.sigmoid(\n",
    "            tf.matmul(x,self.Wi)+tf.matmul(previous_hidden_state,self.Ui) + self.bi\n",
    "        )\n",
    "        \n",
    "        #Forget Gate\n",
    "        f= tf.sigmoid(\n",
    "            tf.matmul(x,self.Wf)+tf.matmul(previous_hidden_state,self.Uf) + self.bf \n",
    "        )\n",
    "        \n",
    "        #Output Gate\n",
    "        o= tf.sigmoid(\n",
    "            tf.matmul(x,self.Wog)+tf.matmul(previous_hidden_state,self.Uog) + self.bog\n",
    "        )\n",
    "        \n",
    "        #Input activation\n",
    "        z= tf.nn.tanh(\n",
    "            tf.matmul(x,self.Wz)+tf.matmul(previous_hidden_state,self.Uz) + self.bz\n",
    "        )\n",
    "        \n",
    "        #Final Memory cell\n",
    "        c= f*c_prev + i*z\n",
    "        \n",
    "        #Current Hidden state\n",
    "        current_hidden_state = o*tf.nn.tanh(c)\n",
    "\n",
    "\n",
    "        return tf.stack([current_hidden_state,c]) # 按照第一維度拼接，準備接給下一個timestep的Lstm\n",
    "\n",
    "    # Function for getting all hidden state.\n",
    "    # 使用scan逐次迭代計算所有timesteps，最後得出所有的hidden_state進行後續處理\n",
    "    def get_states(self):\n",
    "\n",
    "        # Getting all hidden state through time\n",
    "        # tf.scan 遞歸函數\n",
    "        # fn: 第一個輸入是上一個時刻的輸出(需要與fn的輸出保持一致)，第二個輸入是當前時刻的輸入，以此類推\n",
    "        # elems: scan方法每一步都會沿著tensor的第一個維度進行fn運算取值，也就是每筆資料的第一步timestep\n",
    "        # 所以前面才要將self._input的shape由[batch,timesteps,features]轉成self.processed_input的shape[timesteps,batch,features]\n",
    "        # initializer: 初始值，需與fn的第一個輸入和輸出保持一致\n",
    "        # 最後得到的值維度為[timesteps, 2, batch, hidden_layer_size]，第二個維度是由hidden_state與cell組成\n",
    "        # 而lstm cell的輸出就是第一個維度，hidden_state的值\n",
    "        all_hidden_states = tf.scan(fn=self.Lstm, \n",
    "                                    elems=self.processed_input, # shape[timesteps, batch, features]\n",
    "                                    initializer=self.initial_hidden_cell, # shape(2,batch,hidden_layer_size)\n",
    "                                    name='states')\n",
    "        all_hidden_states=all_hidden_states[:,0,:,:]\n",
    "        \n",
    "        return all_hidden_states\n",
    "\n",
    "    # Function to get output from a hidden layer\n",
    "    def get_output(self, hidden_state): \n",
    "\n",
    "        output = tf.matmul(hidden_state, self.Wo) + self.bo\n",
    "\n",
    "        return output\n",
    "\n",
    "    # Function for getting all output layers\n",
    "    def get_outputs(self):\n",
    "\n",
    "        all_hidden_states = self.get_states() # 拿到所有hidden_state的值，shape為[timesteps,batch,hidden_layer_size]\n",
    "        \n",
    "        # tf.map_fn依序拿取elems的第一個維度，接著計算fn的值，也就是每步timesteps都會輸出10類的概率\n",
    "        # [batch,hidden_layer_size] * [hidden_layer_size, target_size] = [batch, target_size]\n",
    "        # 最後得到[timesteps, batch, target_size]\n",
    "        all_outputs = tf.map_fn(fn=self.get_output, \n",
    "                                elems=all_hidden_states) \n",
    "\n",
    "        return all_outputs\n",
    "\n",
    "\n",
    "# Function to convert batch input data to use tf.scan ops of tensorflow.\n",
    "def process_batch_input_for_RNN(batch_input):\n",
    "\n",
    "    batch_input_ = tf.transpose(batch_input, perm=[1, 0, 2])\n",
    "    X = tf.transpose(batch_input_)\n",
    "\n",
    "    return X\n"
   ]
  },
  {
   "cell_type": "markdown",
   "metadata": {},
   "source": [
    "# Placeholder and initializers\n"
   ]
  },
  {
   "cell_type": "code",
   "execution_count": 3,
   "metadata": {},
   "outputs": [],
   "source": [
    "hidden_layer_size = 30\n",
    "input_size = 8\n",
    "target_size = 10"
   ]
  },
  {
   "cell_type": "code",
   "execution_count": 4,
   "metadata": {},
   "outputs": [],
   "source": [
    "y = tf.placeholder(tf.float32, shape=[None, target_size],name='inputs')"
   ]
  },
  {
   "cell_type": "markdown",
   "metadata": {},
   "source": [
    "# Models"
   ]
  },
  {
   "cell_type": "code",
   "execution_count": 5,
   "metadata": {},
   "outputs": [],
   "source": [
    "#Initializing rnn object\n",
    "rnn=LSTM_cell( input_size, hidden_layer_size, target_size)"
   ]
  },
  {
   "cell_type": "code",
   "execution_count": 6,
   "metadata": {
    "scrolled": true
   },
   "outputs": [],
   "source": [
    "all_hidden_states = rnn.get_states() # 所有hidden_state的值"
   ]
  },
  {
   "cell_type": "code",
   "execution_count": 7,
   "metadata": {
    "scrolled": true
   },
   "outputs": [],
   "source": [
    "#Getting all outputs from rnn\n",
    "outputs = rnn.get_outputs() # 只需要最後一個timestep中10類的值"
   ]
  },
  {
   "cell_type": "code",
   "execution_count": 8,
   "metadata": {},
   "outputs": [],
   "source": [
    "#Getting final output through indexing after reversing\n",
    "last_output = outputs[-1]"
   ]
  },
  {
   "cell_type": "code",
   "execution_count": 9,
   "metadata": {},
   "outputs": [],
   "source": [
    "#Computing the Cross Entropy loss \n",
    "loss = tf.reduce_sum(tf.nn.softmax_cross_entropy_with_logits_v2(logits=last_output, labels=y))"
   ]
  },
  {
   "cell_type": "code",
   "execution_count": 12,
   "metadata": {},
   "outputs": [],
   "source": [
    "# Trainning with Adadelta Optimizer\n",
    "train_step = tf.train.AdamOptimizer().minimize(loss)"
   ]
  },
  {
   "cell_type": "code",
   "execution_count": 13,
   "metadata": {},
   "outputs": [],
   "source": [
    "#Calculatio of correct prediction and accuracy\n",
    "correct_prediction = tf.equal(tf.argmax(y,1), tf.argmax(last_output,1))\n",
    "accuracy = (tf.reduce_mean(tf.cast(correct_prediction, tf.float32)))*100"
   ]
  },
  {
   "cell_type": "markdown",
   "metadata": {},
   "source": [
    "# Dataset Preparation"
   ]
  },
  {
   "cell_type": "code",
   "execution_count": 14,
   "metadata": {},
   "outputs": [],
   "source": [
    "#Function to get on hot\n",
    "def get_on_hot(number):\n",
    "    on_hot=[0]*10 # digits共有10類\n",
    "    on_hot[number]=1\n",
    "    return on_hot"
   ]
  },
  {
   "cell_type": "code",
   "execution_count": 15,
   "metadata": {},
   "outputs": [],
   "source": [
    "#Using Sklearn MNIST dataset.\n",
    "digits = datasets.load_digits()\n",
    "X=digits.images\n",
    "Y_=digits.target\n",
    "\n",
    "Y=list(map(get_on_hot,Y_))"
   ]
  },
  {
   "cell_type": "code",
   "execution_count": 16,
   "metadata": {},
   "outputs": [],
   "source": [
    "#Getting Train and test Dataset\n",
    "X_train, X_test, y_train, y_test = train_test_split(X, Y, test_size=0.22, random_state=42)\n",
    "\n",
    "# #Cuttting for simple iteration\n",
    "X_train=X_train[:1400]\n",
    "y_train=y_train[:1400]"
   ]
  },
  {
   "cell_type": "code",
   "execution_count": 17,
   "metadata": {},
   "outputs": [],
   "source": [
    "sess=tf.Session()\n",
    "sess.run(tf.global_variables_initializer())"
   ]
  },
  {
   "cell_type": "code",
   "execution_count": 18,
   "metadata": {
    "scrolled": true
   },
   "outputs": [
    {
     "name": "stdout",
     "output_type": "stream",
     "text": [
      "Epoch=1/120, train_loss=229.75, train_acc=17.00 / test_loss=905.34, test_acc=23.23\n",
      "Epoch=2/120, train_loss=225.82, train_acc=28.14 / test_loss=875.26, test_acc=32.32\n",
      "Epoch=3/120, train_loss=213.97, train_acc=36.36 / test_loss=813.75, test_acc=35.61\n",
      "Epoch=4/120, train_loss=197.41, train_acc=42.43 / test_loss=743.16, test_acc=44.95\n",
      "Epoch=5/120, train_loss=179.22, train_acc=53.64 / test_loss=668.83, test_acc=59.60\n",
      "Epoch=6/120, train_loss=160.68, train_acc=62.36 / test_loss=595.69, test_acc=65.40\n",
      "Epoch=7/120, train_loss=143.23, train_acc=67.71 / test_loss=529.48, test_acc=69.95\n",
      "Epoch=8/120, train_loss=127.50, train_acc=71.50 / test_loss=471.45, test_acc=74.24\n",
      "Epoch=9/120, train_loss=113.55, train_acc=74.36 / test_loss=421.46, test_acc=75.76\n",
      "Epoch=10/120, train_loss=101.48, train_acc=76.14 / test_loss=378.77, test_acc=77.27\n",
      "Epoch=11/120, train_loss=91.11, train_acc=78.79 / test_loss=341.27, test_acc=80.30\n",
      "Epoch=12/120, train_loss=82.18, train_acc=80.93 / test_loss=308.51, test_acc=82.32\n",
      "Epoch=13/120, train_loss=74.53, train_acc=83.43 / test_loss=280.38, test_acc=84.60\n",
      "Epoch=14/120, train_loss=67.89, train_acc=85.43 / test_loss=255.25, test_acc=88.89\n",
      "Epoch=15/120, train_loss=62.01, train_acc=87.07 / test_loss=232.93, test_acc=89.14\n",
      "Epoch=16/120, train_loss=56.76, train_acc=88.00 / test_loss=213.80, test_acc=88.89\n",
      "Epoch=17/120, train_loss=52.10, train_acc=89.21 / test_loss=197.44, test_acc=89.90\n",
      "Epoch=18/120, train_loss=47.98, train_acc=89.93 / test_loss=183.03, test_acc=90.66\n",
      "Epoch=19/120, train_loss=44.34, train_acc=90.79 / test_loss=170.31, test_acc=91.67\n",
      "Epoch=20/120, train_loss=41.13, train_acc=91.79 / test_loss=159.16, test_acc=92.17\n",
      "Epoch=21/120, train_loss=38.29, train_acc=92.57 / test_loss=149.15, test_acc=92.17\n",
      "Epoch=22/120, train_loss=35.80, train_acc=92.64 / test_loss=139.97, test_acc=92.17\n",
      "Epoch=23/120, train_loss=33.61, train_acc=93.00 / test_loss=131.78, test_acc=92.93\n",
      "Epoch=24/120, train_loss=31.64, train_acc=93.43 / test_loss=124.71, test_acc=93.43\n",
      "Epoch=25/120, train_loss=29.85, train_acc=93.79 / test_loss=118.77, test_acc=93.43\n",
      "Epoch=26/120, train_loss=28.19, train_acc=93.86 / test_loss=113.79, test_acc=93.69\n",
      "Epoch=27/120, train_loss=26.67, train_acc=94.00 / test_loss=109.45, test_acc=93.43\n",
      "Epoch=28/120, train_loss=25.27, train_acc=94.29 / test_loss=105.32, test_acc=93.69\n",
      "Epoch=29/120, train_loss=23.91, train_acc=95.07 / test_loss=100.84, test_acc=93.69\n",
      "Epoch=30/120, train_loss=22.52, train_acc=95.50 / test_loss=95.86, test_acc=94.19\n",
      "Epoch=31/120, train_loss=21.11, train_acc=95.93 / test_loss=90.79, test_acc=94.70\n",
      "Epoch=32/120, train_loss=19.71, train_acc=96.43 / test_loss=85.88, test_acc=94.44\n",
      "Epoch=33/120, train_loss=18.40, train_acc=96.71 / test_loss=81.11, test_acc=94.70\n",
      "Epoch=34/120, train_loss=17.28, train_acc=97.00 / test_loss=77.15, test_acc=94.70\n",
      "Epoch=35/120, train_loss=16.39, train_acc=97.14 / test_loss=73.99, test_acc=94.95\n",
      "Epoch=36/120, train_loss=15.63, train_acc=97.07 / test_loss=70.99, test_acc=94.95\n",
      "Epoch=37/120, train_loss=14.90, train_acc=97.14 / test_loss=67.65, test_acc=95.45\n",
      "Epoch=38/120, train_loss=14.12, train_acc=97.36 / test_loss=64.47, test_acc=95.71\n",
      "Epoch=39/120, train_loss=13.30, train_acc=97.43 / test_loss=62.16, test_acc=95.71\n",
      "Epoch=40/120, train_loss=12.48, train_acc=97.64 / test_loss=60.02, test_acc=95.71\n",
      "Epoch=41/120, train_loss=11.71, train_acc=97.86 / test_loss=57.73, test_acc=95.96\n",
      "Epoch=42/120, train_loss=11.03, train_acc=98.00 / test_loss=55.68, test_acc=96.21\n",
      "Epoch=43/120, train_loss=10.42, train_acc=98.14 / test_loss=53.92, test_acc=96.72\n",
      "Epoch=44/120, train_loss=9.87, train_acc=98.43 / test_loss=52.23, test_acc=96.72\n",
      "Epoch=45/120, train_loss=9.37, train_acc=98.50 / test_loss=50.58, test_acc=96.72\n",
      "Epoch=46/120, train_loss=8.92, train_acc=98.86 / test_loss=49.01, test_acc=96.21\n",
      "Epoch=47/120, train_loss=8.50, train_acc=98.86 / test_loss=47.57, test_acc=96.46\n",
      "Epoch=48/120, train_loss=8.11, train_acc=98.93 / test_loss=46.34, test_acc=96.46\n",
      "Epoch=49/120, train_loss=7.76, train_acc=99.07 / test_loss=45.33, test_acc=96.72\n",
      "Epoch=50/120, train_loss=7.43, train_acc=99.29 / test_loss=44.50, test_acc=96.72\n",
      "Epoch=51/120, train_loss=7.12, train_acc=99.29 / test_loss=43.76, test_acc=96.97\n",
      "Epoch=52/120, train_loss=6.82, train_acc=99.29 / test_loss=42.97, test_acc=96.97\n",
      "Epoch=53/120, train_loss=6.51, train_acc=99.29 / test_loss=42.01, test_acc=96.72\n",
      "Epoch=54/120, train_loss=6.20, train_acc=99.36 / test_loss=40.92, test_acc=96.72\n",
      "Epoch=55/120, train_loss=5.90, train_acc=99.29 / test_loss=39.87, test_acc=96.46\n",
      "Epoch=56/120, train_loss=5.62, train_acc=99.36 / test_loss=38.95, test_acc=96.72\n",
      "Epoch=57/120, train_loss=5.36, train_acc=99.36 / test_loss=38.18, test_acc=96.72\n",
      "Epoch=58/120, train_loss=5.11, train_acc=99.43 / test_loss=37.50, test_acc=96.46\n",
      "Epoch=59/120, train_loss=4.90, train_acc=99.50 / test_loss=36.87, test_acc=96.46\n",
      "Epoch=60/120, train_loss=4.70, train_acc=99.64 / test_loss=36.28, test_acc=96.72\n",
      "Epoch=61/120, train_loss=4.51, train_acc=99.64 / test_loss=35.73, test_acc=96.97\n",
      "Epoch=62/120, train_loss=4.34, train_acc=99.64 / test_loss=35.22, test_acc=96.97\n",
      "Epoch=63/120, train_loss=4.18, train_acc=99.64 / test_loss=34.74, test_acc=96.97\n",
      "Epoch=64/120, train_loss=4.02, train_acc=99.64 / test_loss=34.29, test_acc=96.97\n",
      "Epoch=65/120, train_loss=3.87, train_acc=99.64 / test_loss=33.82, test_acc=97.22\n",
      "Epoch=66/120, train_loss=3.72, train_acc=99.64 / test_loss=33.33, test_acc=97.47\n",
      "Epoch=67/120, train_loss=3.57, train_acc=99.64 / test_loss=32.80, test_acc=97.47\n",
      "Epoch=68/120, train_loss=3.43, train_acc=99.71 / test_loss=32.37, test_acc=97.47\n",
      "Epoch=69/120, train_loss=3.29, train_acc=99.71 / test_loss=32.09, test_acc=97.47\n",
      "Epoch=70/120, train_loss=3.17, train_acc=99.79 / test_loss=31.85, test_acc=97.47\n",
      "Epoch=71/120, train_loss=3.06, train_acc=99.79 / test_loss=31.62, test_acc=97.47\n",
      "Epoch=72/120, train_loss=2.95, train_acc=99.79 / test_loss=31.41, test_acc=96.97\n",
      "Epoch=73/120, train_loss=2.84, train_acc=99.79 / test_loss=31.22, test_acc=96.97\n",
      "Epoch=74/120, train_loss=2.74, train_acc=99.79 / test_loss=31.06, test_acc=96.97\n",
      "Epoch=75/120, train_loss=2.65, train_acc=99.79 / test_loss=30.92, test_acc=96.97\n",
      "Epoch=76/120, train_loss=2.56, train_acc=99.86 / test_loss=30.76, test_acc=96.72\n",
      "Epoch=77/120, train_loss=2.47, train_acc=99.93 / test_loss=30.58, test_acc=96.97\n",
      "Epoch=78/120, train_loss=2.38, train_acc=99.93 / test_loss=30.37, test_acc=96.97\n",
      "Epoch=79/120, train_loss=2.30, train_acc=99.93 / test_loss=30.14, test_acc=96.97\n",
      "Epoch=80/120, train_loss=2.22, train_acc=99.93 / test_loss=29.90, test_acc=96.97\n",
      "Epoch=81/120, train_loss=2.15, train_acc=99.93 / test_loss=29.66, test_acc=96.97\n",
      "Epoch=82/120, train_loss=2.09, train_acc=99.93 / test_loss=29.41, test_acc=96.97\n",
      "Epoch=83/120, train_loss=2.02, train_acc=99.93 / test_loss=29.19, test_acc=96.97\n",
      "Epoch=84/120, train_loss=1.96, train_acc=99.93 / test_loss=29.04, test_acc=97.22\n",
      "Epoch=85/120, train_loss=1.91, train_acc=99.93 / test_loss=28.98, test_acc=97.47\n",
      "Epoch=86/120, train_loss=1.85, train_acc=99.93 / test_loss=28.92, test_acc=97.47\n",
      "Epoch=87/120, train_loss=1.79, train_acc=99.93 / test_loss=28.82, test_acc=96.97\n",
      "Epoch=88/120, train_loss=1.74, train_acc=99.93 / test_loss=28.84, test_acc=96.72\n",
      "Epoch=89/120, train_loss=1.70, train_acc=99.93 / test_loss=29.04, test_acc=96.72\n",
      "Epoch=90/120, train_loss=1.66, train_acc=99.93 / test_loss=29.21, test_acc=96.72\n",
      "Epoch=91/120, train_loss=1.61, train_acc=99.93 / test_loss=29.08, test_acc=96.97\n",
      "Epoch=92/120, train_loss=1.55, train_acc=99.93 / test_loss=28.39, test_acc=97.22\n",
      "Epoch=93/120, train_loss=1.49, train_acc=99.93 / test_loss=27.60, test_acc=96.97\n",
      "Epoch=94/120, train_loss=1.46, train_acc=99.93 / test_loss=27.35, test_acc=96.97\n",
      "Epoch=95/120, train_loss=1.43, train_acc=99.93 / test_loss=27.03, test_acc=97.22\n",
      "Epoch=96/120, train_loss=1.41, train_acc=99.93 / test_loss=26.84, test_acc=97.73\n",
      "Epoch=97/120, train_loss=1.37, train_acc=99.93 / test_loss=26.98, test_acc=97.47\n",
      "Epoch=98/120, train_loss=1.33, train_acc=99.93 / test_loss=26.96, test_acc=97.47\n",
      "Epoch=99/120, train_loss=1.29, train_acc=99.93 / test_loss=27.19, test_acc=96.72\n",
      "Epoch=100/120, train_loss=1.26, train_acc=100.00 / test_loss=27.86, test_acc=96.97\n",
      "Epoch=101/120, train_loss=1.23, train_acc=100.00 / test_loss=27.75, test_acc=97.47\n"
     ]
    },
    {
     "name": "stdout",
     "output_type": "stream",
     "text": [
      "Epoch=102/120, train_loss=1.18, train_acc=100.00 / test_loss=26.73, test_acc=97.47\n",
      "Epoch=103/120, train_loss=1.14, train_acc=100.00 / test_loss=26.03, test_acc=97.22\n",
      "Epoch=104/120, train_loss=1.12, train_acc=100.00 / test_loss=25.99, test_acc=97.22\n",
      "Epoch=105/120, train_loss=1.09, train_acc=100.00 / test_loss=25.94, test_acc=97.22\n",
      "Epoch=106/120, train_loss=1.06, train_acc=100.00 / test_loss=25.99, test_acc=97.22\n",
      "Epoch=107/120, train_loss=1.03, train_acc=100.00 / test_loss=26.05, test_acc=97.22\n",
      "Epoch=108/120, train_loss=1.01, train_acc=100.00 / test_loss=25.95, test_acc=97.22\n",
      "Epoch=109/120, train_loss=0.98, train_acc=100.00 / test_loss=25.78, test_acc=97.22\n",
      "Epoch=110/120, train_loss=0.96, train_acc=100.00 / test_loss=25.65, test_acc=97.47\n",
      "Epoch=111/120, train_loss=0.94, train_acc=100.00 / test_loss=25.58, test_acc=97.47\n",
      "Epoch=112/120, train_loss=0.91, train_acc=100.00 / test_loss=25.54, test_acc=97.22\n",
      "Epoch=113/120, train_loss=0.89, train_acc=100.00 / test_loss=25.49, test_acc=97.47\n",
      "Epoch=114/120, train_loss=0.87, train_acc=100.00 / test_loss=25.43, test_acc=97.47\n",
      "Epoch=115/120, train_loss=0.85, train_acc=100.00 / test_loss=25.36, test_acc=97.47\n",
      "Epoch=116/120, train_loss=0.83, train_acc=100.00 / test_loss=25.28, test_acc=97.47\n",
      "Epoch=117/120, train_loss=0.82, train_acc=100.00 / test_loss=25.21, test_acc=97.73\n",
      "Epoch=118/120, train_loss=0.80, train_acc=100.00 / test_loss=25.15, test_acc=97.73\n",
      "Epoch=119/120, train_loss=0.78, train_acc=100.00 / test_loss=25.09, test_acc=97.73\n",
      "Epoch=120/120, train_loss=0.76, train_acc=100.00 / test_loss=25.02, test_acc=97.73\n"
     ]
    }
   ],
   "source": [
    "#Iterations to do trainning\n",
    "train_loss = []\n",
    "test_loss = []\n",
    "train_acc = []\n",
    "test_acc = []\n",
    "\n",
    "for epoch in range(120):\n",
    "    \n",
    "    start=0\n",
    "    end=100\n",
    "    \n",
    "    train_loss_collector = []\n",
    "    test_loss_collector = []\n",
    "    train_acc_collector = []\n",
    "    test_acc_collector = []\n",
    "    \n",
    "    for i in range(14):\n",
    "        \n",
    "        X=X_train[start:end]\n",
    "        Y=y_train[start:end]\n",
    "        start=end\n",
    "        end=start+100 # 每次訓練100張圖片\n",
    "        _, train_loss_batch, train_acc_batch = sess.run([train_step, loss, accuracy],feed_dict={rnn._inputs:X, y:Y})\n",
    "        \n",
    "        train_loss_collector.append(train_loss_batch)\n",
    "        train_acc_collector.append(train_acc_batch)\n",
    "    #all_hidden_states_1 = sess.run(all_hidden_states, feed_dict={rnn._inputs:X})\n",
    "    \n",
    "    outputs_1 = sess.run([outputs],feed_dict={rnn._inputs:X})\n",
    "    last_output_1 = sess.run([last_output],feed_dict={rnn._inputs:X})\n",
    "    train_loss_collector = np.mean(train_loss_collector) # 平均一個batch的loss\n",
    "    train_acc_collector = np.mean(train_acc_collector) # 平均一個batch的acc\n",
    "    \n",
    "    train_loss.append(train_loss_collector)\n",
    "    train_acc.append(train_acc_collector)\n",
    "    \n",
    "    #Loss=str(sess.run(cross_entropy,feed_dict={rnn._inputs:X, y:Y}))\n",
    "    #Train_accuracy=sess.run(accuracy,feed_dict={rnn._inputs:X_train[:500], y:y_train[:500]})\n",
    "    \n",
    "    test_loss_=sess.run(loss,feed_dict={rnn._inputs:X_test, y:y_test})\n",
    "    test_acc_=sess.run(accuracy,feed_dict={rnn._inputs:X_test, y:y_test})\n",
    "    \n",
    "    test_loss.append(test_loss_)\n",
    "    test_acc.append(test_acc_)\n",
    "    \n",
    "    \n",
    "    print('Epoch=%d/120, train_loss=%.2f, train_acc=%.2f / test_loss=%.2f, test_acc=%.2f' % \n",
    "          (epoch+1, train_loss_collector, train_acc_collector, test_loss_, test_acc_))\n",
    "\n"
   ]
  },
  {
   "cell_type": "code",
   "execution_count": 19,
   "metadata": {},
   "outputs": [
    {
     "name": "stdout",
     "output_type": "stream",
     "text": [
      "(8, 100, 10)\n",
      "(100, 10)\n"
     ]
    }
   ],
   "source": [
    "print(outputs_1[0].shape) # 每一步timestep的輸出，共有8個timesteps\n",
    "print(last_output_1[0].shape) # 取最後一步timestep的輸出"
   ]
  },
  {
   "cell_type": "code",
   "execution_count": 20,
   "metadata": {},
   "outputs": [
    {
     "data": {
      "text/plain": [
       "array([9, 0, 9, 3, 7, 5, 9, 0, 3, 5, 1, 1, 5, 0, 0, 5, 0, 4, 1, 2, 2, 6,\n",
       "       8, 8, 0, 3, 4, 3, 3, 8, 4, 0, 6, 0, 2, 3, 3, 2, 1, 0, 0, 4, 0, 0,\n",
       "       1, 8, 2, 0, 4, 1, 5, 6, 8, 0, 3, 9, 8, 2, 8, 4, 0, 6, 4, 1, 0, 0,\n",
       "       1, 2, 9, 7, 0, 8, 6, 3, 9, 2, 4, 4, 8, 3, 8, 0, 0, 6, 8, 5, 4, 6,\n",
       "       5, 7, 1, 4, 4, 5, 2, 4, 3, 7, 2, 7])"
      ]
     },
     "execution_count": 20,
     "metadata": {},
     "output_type": "execute_result"
    }
   ],
   "source": [
    "sess.run(tf.argmax(last_output_1[0],axis=1)) # 最後一步batch中100張圖片的類別"
   ]
  },
  {
   "cell_type": "code",
   "execution_count": 21,
   "metadata": {},
   "outputs": [],
   "source": [
    "from matplotlib.pylab import rcParams\n",
    "rcParams['figure.figsize'] = (12,8)"
   ]
  },
  {
   "cell_type": "code",
   "execution_count": 22,
   "metadata": {},
   "outputs": [
    {
     "data": {
      "image/png": "[encoded data removed]",
      "text/plain": [
       "<Figure size 864x576 with 2 Axes>"
      ]
     },
     "metadata": {},
     "output_type": "display_data"
    }
   ],
   "source": [
    "fig, axes = plt.subplots(1,2)\n",
    "\n",
    "axes[0].plot(np.arange(120), train_loss, label='train_loss')\n",
    "axes[0].plot(np.arange(120), test_loss, label='test_loss')\n",
    "axes[0].legend(loc='upper right',prop={'size':12})\n",
    "\n",
    "axes[1].plot(np.arange(120), train_acc, label='train_acc')\n",
    "axes[1].plot(np.arange(120), test_acc, label='test_acc')\n",
    "axes[1].legend(loc='lower right',prop={'size':12})\n",
    "\n",
    "plt.show()"
   ]
  },
  {
   "cell_type": "code",
   "execution_count": 23,
   "metadata": {},
   "outputs": [
    {
     "name": "stdout",
     "output_type": "stream",
     "text": [
      "Min train loss:0.76\n",
      "Max train accuracy:100.00\n",
      "------------------------\n",
      "Min test loss:25.02\n",
      "Max test accuracy:97.73\n"
     ]
    }
   ],
   "source": [
    "print('Min train loss:%.2f' % np.min(train_loss))\n",
    "print('Max train accuracy:%.2f' % np.max(train_acc))\n",
    "print('------------------------')\n",
    "print('Min test loss:%.2f' % np.min(test_loss))\n",
    "print('Max test accuracy:%.2f' % np.max(test_acc))"
   ]
  },
  {
   "cell_type": "code",
   "execution_count": null,
   "metadata": {},
   "outputs": [],
   "source": []
  }
 ],
 "metadata": {
  "kernelspec": {
   "display_name": "Python 3",
   "language": "python",
   "name": "python3"
  },
  "language_info": {
   "codemirror_mode": {
    "name": "ipython",
    "version": 3
   },
   "file_extension": ".py",
   "mimetype": "text/x-python",
   "name": "python",
   "nbconvert_exporter": "python",
   "pygments_lexer": "ipython3",
   "version": "3.6.6"
  }
 },
 "nbformat": 4,
 "nbformat_minor": 1
}
