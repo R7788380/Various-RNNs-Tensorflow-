{
 "cells": [
  {
   "cell_type": "markdown",
   "metadata": {},
   "source": [
    "# <span style=\"color:green\"> GRU "
   ]
  },
  {
   "cell_type": "markdown",
   "metadata": {},
   "source": [
    "# Importing Libraries"
   ]
  },
  {
   "cell_type": "code",
   "execution_count": 1,
   "metadata": {},
   "outputs": [
    {
     "name": "stderr",
     "output_type": "stream",
     "text": [
      "/Library/Frameworks/Python.framework/Versions/3.6/lib/python3.6/site-packages/sklearn/cross_validation.py:41: DeprecationWarning: This module was deprecated in version 0.18 in favor of the model_selection module into which all the refactored classes and functions are moved. Also note that the interface of the new CV iterators are different from that of this module. This module will be removed in 0.20.\n",
      "  \"This module will be removed in 0.20.\", DeprecationWarning)\n"
     ]
    }
   ],
   "source": [
    "import warnings\n",
    "warnings.filterwarnings('ignore')\n",
    "import numpy as np\n",
    "import tensorflow as tf\n",
    "from sklearn import datasets\n",
    "from sklearn.cross_validation import train_test_split\n",
    "import pylab as pl\n",
    "from IPython import display\n",
    "import sys\n",
    "%matplotlib inline"
   ]
  },
  {
   "cell_type": "markdown",
   "metadata": {},
   "source": [
    "# GRU  class and functions\n",
    "\n",
    "$$\n",
    "\\begin{align}\n",
    "reset\\;gate: &r^t=\\sigma(W_rx^t+U_rh^{t-1}+b_r) \\\\\n",
    "update\\;gate: &z^t=\\sigma(W_zx^t+U_zh^{t-1}+b_z) \\\\\n",
    "candidate\\;hidden\\;layer: &\\tilde{h^t}=\\tanh(W_hx^t+U_hh^{t-1}\\circ r^t+b_h)\\;,\\;\\circ: \\text{Hadamard product} \\\\\n",
    "hidden\\;state: &h^t=z^t\\circ h^{t-1}+(1-z^t)\\circ\\tilde{h^t}\n",
    "\\end{align}\n",
    "$$\n",
    "[Hadamard product](https://en.wikipedia.org/wiki/Hadamard_product_(matrices))"
   ]
  },
  {
   "cell_type": "code",
   "execution_count": 2,
   "metadata": {},
   "outputs": [],
   "source": [
    "class RNN_cell(object):\n",
    "\n",
    "    def __init__(self, input_size, hidden_layer_size, target_size):\n",
    "\n",
    "        #Initialization of given values\n",
    "        self.input_size = input_size\n",
    "        self.hidden_layer_size = hidden_layer_size\n",
    "        self.target_size = target_size\n",
    "        \n",
    "        # Weights for input and hidden tensor\n",
    "        self.Wr = tf.Variable(tf.truncated_normal([self.input_size,self.hidden_layer_size],stddev=.01))\n",
    "        self.Wz = tf.Variable(tf.truncated_normal([self.input_size,self.hidden_layer_size],stddev=.01))\n",
    "        self.Wh = tf.Variable(tf.truncated_normal([self.input_size,self.hidden_layer_size],stddev=.01))\n",
    "        \n",
    "        self.Ur = tf.Variable(tf.truncated_normal([self.hidden_layer_size,self.hidden_layer_size],stddev=.01))\n",
    "        self.Uz = tf.Variable(tf.truncated_normal([self.hidden_layer_size,self.hidden_layer_size],stddev=.01))\n",
    "        self.Uh = tf.Variable(tf.truncated_normal([self.hidden_layer_size,self.hidden_layer_size],stddev=.01))\n",
    "        \n",
    "        self.br = tf.Variable(tf.truncated_normal([self.hidden_layer_size],mean=1))\n",
    "        self.bz = tf.Variable(tf.truncated_normal([self.hidden_layer_size],mean=1))\n",
    "        self.bh = tf.Variable(tf.truncated_normal([self.hidden_layer_size],mean=1))\n",
    "        \n",
    "        \n",
    "        #Weights for output layer\n",
    "        self.Wo = tf.Variable(tf.truncated_normal([self.hidden_layer_size,self.target_size],mean=1,stddev=.01))\n",
    "        self.bo = tf.Variable(tf.truncated_normal([self.target_size],mean=1,stddev=.01))\n",
    "        # Placeholder for input vector with shape[batch, seq, embeddings]\n",
    "        self._inputs = tf.placeholder(tf.float32,\n",
    "                                      shape=[None, None, self.input_size],\n",
    "                                      name='inputs')\n",
    "\n",
    "        # Processing inputs to work with scan function\n",
    "        self.processed_input = process_batch_input_for_RNN(self._inputs)\n",
    "\n",
    "        self.initial_hidden = self._inputs[:, 0, :]\n",
    "        self.initial_hidden = tf.matmul(\n",
    "            self.initial_hidden, tf.zeros([input_size, hidden_layer_size])) # [batch, hidden_layer_size]\n",
    "        \n",
    "        \n",
    "    #Function for GRU cell\n",
    "    def Gru(self, previous_hidden_state, x):\n",
    "\n",
    "        z= tf.sigmoid(tf.matmul(x,self.Wz)+ tf.matmul(previous_hidden_state, self.Uz)+ self.bz)\n",
    "        r= tf.sigmoid(tf.matmul(x,self.Wr)+ tf.matmul(previous_hidden_state, self.Ur)+ self.br)\n",
    "        \n",
    "        h_= tf.tanh(tf.matmul(x,self.Wh) + tf.matmul(tf.multiply(r, previous_hidden_state), self.Uh)+ self.bh)\n",
    "                    \n",
    "        \n",
    "        current_hidden_state = tf.multiply(z, h_) + tf.multiply(1-z, previous_hidden_state)\n",
    "        \n",
    "        return current_hidden_state     \n",
    "    \n",
    "    # Function for getting all hidden state.\n",
    "    def get_states(self):\n",
    "\n",
    "        # Getting all hidden state throuh time\n",
    "        all_hidden_states = tf.scan(self.Gru,\n",
    "                                    self.processed_input,\n",
    "                                    initializer=self.initial_hidden,\n",
    "                                    name='states')\n",
    "\n",
    "        return all_hidden_states\n",
    "\n",
    "    # Function to get output from a hidden layer\n",
    "    def get_output(self, hidden_state):\n",
    "\n",
    "        output = tf.matmul(hidden_state, self.Wo) + self.bo\n",
    "\n",
    "        return output\n",
    "\n",
    "    # Function for getting all output layers\n",
    "    def get_outputs(self):\n",
    "\n",
    "        all_hidden_states = self.get_states()\n",
    "\n",
    "        all_outputs = tf.map_fn(self.get_output, all_hidden_states)\n",
    "\n",
    "        return all_outputs\n",
    "\n",
    "\n",
    "# Function to convert batch input data to use scan tf.ops of tensorflow.\n",
    "def process_batch_input_for_RNN(batch_input):\n",
    "\n",
    "    batch_input_ = tf.transpose(batch_input, perm=[1, 0, 2])\n",
    "    X = tf.transpose(batch_input_)\n",
    "\n",
    "    return X\n"
   ]
  },
  {
   "cell_type": "markdown",
   "metadata": {},
   "source": [
    "# Placeholder and initializers\n"
   ]
  },
  {
   "cell_type": "code",
   "execution_count": 3,
   "metadata": {},
   "outputs": [],
   "source": [
    "hidden_layer_size = 30\n",
    "input_size = 8\n",
    "target_size = 10"
   ]
  },
  {
   "cell_type": "code",
   "execution_count": 4,
   "metadata": {},
   "outputs": [],
   "source": [
    "y = tf.placeholder(tf.float32, shape=[None, target_size],name='inputs')"
   ]
  },
  {
   "cell_type": "markdown",
   "metadata": {},
   "source": [
    "# Models"
   ]
  },
  {
   "cell_type": "code",
   "execution_count": 5,
   "metadata": {},
   "outputs": [],
   "source": [
    "#Initializing rnn object\n",
    "rnn=RNN_cell( input_size, hidden_layer_size, target_size)"
   ]
  },
  {
   "cell_type": "code",
   "execution_count": 6,
   "metadata": {},
   "outputs": [],
   "source": [
    "#Getting all outputs from rnn\n",
    "outputs = rnn.get_outputs()"
   ]
  },
  {
   "cell_type": "code",
   "execution_count": 7,
   "metadata": {},
   "outputs": [],
   "source": [
    "#Getting final output through indexing after reversing\n",
    "last_output = outputs[-1]"
   ]
  },
  {
   "cell_type": "code",
   "execution_count": 8,
   "metadata": {},
   "outputs": [],
   "source": [
    "#Computing the Cross Entropy loss \n",
    "loss = tf.reduce_sum(tf.nn.softmax_cross_entropy_with_logits_v2(logits=last_output, labels=y))"
   ]
  },
  {
   "cell_type": "code",
   "execution_count": 9,
   "metadata": {},
   "outputs": [],
   "source": [
    "# Trainning with Adadelta Optimizer\n",
    "train_step = tf.train.AdamOptimizer().minimize(loss)"
   ]
  },
  {
   "cell_type": "code",
   "execution_count": 10,
   "metadata": {},
   "outputs": [],
   "source": [
    "#Calculatio of correct prediction and accuracy\n",
    "correct_prediction = tf.equal(tf.argmax(y,1), tf.argmax(last_output,1))\n",
    "accuracy = (tf.reduce_mean(tf.cast(correct_prediction, tf.float32)))*100"
   ]
  },
  {
   "cell_type": "markdown",
   "metadata": {},
   "source": [
    "# Dataset Preparation"
   ]
  },
  {
   "cell_type": "code",
   "execution_count": 11,
   "metadata": {},
   "outputs": [],
   "source": [
    "#Function to get on hot\n",
    "def get_on_hot(number):\n",
    "    on_hot=[0]*10\n",
    "    on_hot[number]=1\n",
    "    return on_hot"
   ]
  },
  {
   "cell_type": "code",
   "execution_count": 12,
   "metadata": {},
   "outputs": [],
   "source": [
    "#Using Sklearn MNIST dataset.\n",
    "digits = datasets.load_digits()\n",
    "X=digits.images\n",
    "Y_=digits.target\n",
    "Y=list(map(get_on_hot,Y_))"
   ]
  },
  {
   "cell_type": "code",
   "execution_count": 13,
   "metadata": {},
   "outputs": [],
   "source": [
    "#Getting Train and test Dataset\n",
    "X_train, X_test, y_train, y_test = train_test_split(X, Y, test_size=0.22, random_state=42)\n",
    "\n",
    "#Cuttting for simple iteration\n",
    "X_train=X_train[:1400]\n",
    "y_train=y_train[:1400]"
   ]
  },
  {
   "cell_type": "code",
   "execution_count": 14,
   "metadata": {},
   "outputs": [],
   "source": [
    "sess=tf.Session()\n",
    "sess.run(tf.global_variables_initializer())"
   ]
  },
  {
   "cell_type": "code",
   "execution_count": 15,
   "metadata": {
    "scrolled": false
   },
   "outputs": [
    {
     "name": "stdout",
     "output_type": "stream",
     "text": [
      "Epoch=1/120, train_loss=230.45, train_acc=10.14 / test_loss=912.55, test_acc=10.10\n",
      "Epoch=2/120, train_loss=229.43, train_acc=15.79 / test_loss=908.39, test_acc=19.95\n",
      "Epoch=3/120, train_loss=227.14, train_acc=27.43 / test_loss=893.42, test_acc=26.01\n",
      "Epoch=4/120, train_loss=221.26, train_acc=33.00 / test_loss=859.89, test_acc=31.06\n",
      "Epoch=5/120, train_loss=210.29, train_acc=36.50 / test_loss=806.68, test_acc=35.10\n",
      "Epoch=6/120, train_loss=195.42, train_acc=40.00 / test_loss=745.51, test_acc=39.65\n",
      "Epoch=7/120, train_loss=179.83, train_acc=45.79 / test_loss=684.56, test_acc=46.46\n",
      "Epoch=8/120, train_loss=164.55, train_acc=54.57 / test_loss=623.92, test_acc=56.31\n",
      "Epoch=9/120, train_loss=149.88, train_acc=61.07 / test_loss=565.63, test_acc=61.36\n",
      "Epoch=10/120, train_loss=136.35, train_acc=64.57 / test_loss=512.40, test_acc=68.18\n",
      "Epoch=11/120, train_loss=124.34, train_acc=68.43 / test_loss=466.32, test_acc=72.22\n",
      "Epoch=12/120, train_loss=113.81, train_acc=71.36 / test_loss=427.86, test_acc=75.51\n",
      "Epoch=13/120, train_loss=104.66, train_acc=74.29 / test_loss=389.25, test_acc=77.78\n",
      "Epoch=14/120, train_loss=96.51, train_acc=76.79 / test_loss=352.29, test_acc=80.05\n",
      "Epoch=15/120, train_loss=88.68, train_acc=78.00 / test_loss=322.79, test_acc=80.56\n",
      "Epoch=16/120, train_loss=81.66, train_acc=79.07 / test_loss=297.72, test_acc=81.82\n",
      "Epoch=17/120, train_loss=75.72, train_acc=80.07 / test_loss=276.41, test_acc=83.33\n",
      "Epoch=18/120, train_loss=70.54, train_acc=81.00 / test_loss=257.60, test_acc=83.33\n",
      "Epoch=19/120, train_loss=65.83, train_acc=82.43 / test_loss=240.42, test_acc=84.85\n",
      "Epoch=20/120, train_loss=61.40, train_acc=83.14 / test_loss=224.88, test_acc=85.86\n",
      "Epoch=21/120, train_loss=57.25, train_acc=85.00 / test_loss=211.24, test_acc=86.87\n",
      "Epoch=22/120, train_loss=53.44, train_acc=86.64 / test_loss=199.49, test_acc=87.12\n",
      "Epoch=23/120, train_loss=50.02, train_acc=88.14 / test_loss=189.21, test_acc=87.63\n",
      "Epoch=24/120, train_loss=46.98, train_acc=89.21 / test_loss=180.03, test_acc=87.88\n",
      "Epoch=25/120, train_loss=44.27, train_acc=90.29 / test_loss=171.77, test_acc=88.38\n",
      "Epoch=26/120, train_loss=41.82, train_acc=90.93 / test_loss=164.32, test_acc=88.89\n",
      "Epoch=27/120, train_loss=39.59, train_acc=91.64 / test_loss=157.54, test_acc=89.65\n",
      "Epoch=28/120, train_loss=37.54, train_acc=92.00 / test_loss=151.29, test_acc=89.65\n",
      "Epoch=29/120, train_loss=35.65, train_acc=92.50 / test_loss=145.45, test_acc=90.66\n",
      "Epoch=30/120, train_loss=33.88, train_acc=93.07 / test_loss=139.87, test_acc=91.41\n",
      "Epoch=31/120, train_loss=32.21, train_acc=93.29 / test_loss=134.47, test_acc=91.41\n",
      "Epoch=32/120, train_loss=30.65, train_acc=93.50 / test_loss=129.19, test_acc=91.67\n",
      "Epoch=33/120, train_loss=29.16, train_acc=93.86 / test_loss=124.02, test_acc=92.42\n",
      "Epoch=34/120, train_loss=27.76, train_acc=94.36 / test_loss=118.97, test_acc=92.93\n",
      "Epoch=35/120, train_loss=26.41, train_acc=94.43 / test_loss=114.07, test_acc=93.18\n",
      "Epoch=36/120, train_loss=25.09, train_acc=95.00 / test_loss=109.21, test_acc=93.94\n",
      "Epoch=37/120, train_loss=23.82, train_acc=95.29 / test_loss=104.40, test_acc=93.94\n",
      "Epoch=38/120, train_loss=22.61, train_acc=95.57 / test_loss=99.87, test_acc=93.94\n",
      "Epoch=39/120, train_loss=21.47, train_acc=95.79 / test_loss=95.61, test_acc=94.19\n",
      "Epoch=40/120, train_loss=20.40, train_acc=95.86 / test_loss=91.55, test_acc=94.95\n",
      "Epoch=41/120, train_loss=19.38, train_acc=96.14 / test_loss=87.67, test_acc=95.45\n",
      "Epoch=42/120, train_loss=18.41, train_acc=96.50 / test_loss=83.97, test_acc=95.45\n",
      "Epoch=43/120, train_loss=17.49, train_acc=96.79 / test_loss=80.49, test_acc=95.71\n",
      "Epoch=44/120, train_loss=16.62, train_acc=97.07 / test_loss=77.15, test_acc=95.96\n",
      "Epoch=45/120, train_loss=15.79, train_acc=97.14 / test_loss=74.01, test_acc=96.21\n",
      "Epoch=46/120, train_loss=15.02, train_acc=97.50 / test_loss=71.11, test_acc=96.21\n",
      "Epoch=47/120, train_loss=14.28, train_acc=97.71 / test_loss=68.42, test_acc=96.72\n",
      "Epoch=48/120, train_loss=13.59, train_acc=97.79 / test_loss=65.96, test_acc=96.97\n",
      "Epoch=49/120, train_loss=12.92, train_acc=98.07 / test_loss=63.73, test_acc=96.72\n",
      "Epoch=50/120, train_loss=12.29, train_acc=98.21 / test_loss=61.73, test_acc=96.72\n",
      "Epoch=51/120, train_loss=11.68, train_acc=98.36 / test_loss=59.94, test_acc=96.72\n",
      "Epoch=52/120, train_loss=11.12, train_acc=98.50 / test_loss=58.30, test_acc=97.22\n",
      "Epoch=53/120, train_loss=10.58, train_acc=98.71 / test_loss=56.75, test_acc=97.22\n",
      "Epoch=54/120, train_loss=10.08, train_acc=98.86 / test_loss=55.26, test_acc=97.22\n",
      "Epoch=55/120, train_loss=9.61, train_acc=98.93 / test_loss=53.84, test_acc=97.22\n",
      "Epoch=56/120, train_loss=9.16, train_acc=99.00 / test_loss=52.49, test_acc=97.22\n",
      "Epoch=57/120, train_loss=8.74, train_acc=99.00 / test_loss=51.22, test_acc=97.47\n",
      "Epoch=58/120, train_loss=8.34, train_acc=99.07 / test_loss=50.04, test_acc=97.47\n",
      "Epoch=59/120, train_loss=7.96, train_acc=99.07 / test_loss=48.95, test_acc=97.47\n",
      "Epoch=60/120, train_loss=7.59, train_acc=99.14 / test_loss=47.94, test_acc=97.47\n",
      "Epoch=61/120, train_loss=7.24, train_acc=99.21 / test_loss=47.06, test_acc=97.47\n",
      "Epoch=62/120, train_loss=6.91, train_acc=99.29 / test_loss=46.36, test_acc=97.47\n",
      "Epoch=63/120, train_loss=6.58, train_acc=99.29 / test_loss=45.75, test_acc=97.47\n",
      "Epoch=64/120, train_loss=6.27, train_acc=99.36 / test_loss=45.06, test_acc=97.47\n",
      "Epoch=65/120, train_loss=5.97, train_acc=99.50 / test_loss=44.15, test_acc=97.47\n",
      "Epoch=66/120, train_loss=5.69, train_acc=99.57 / test_loss=42.95, test_acc=97.47\n",
      "Epoch=67/120, train_loss=5.43, train_acc=99.64 / test_loss=41.60, test_acc=97.47\n",
      "Epoch=68/120, train_loss=5.19, train_acc=99.64 / test_loss=40.51, test_acc=97.47\n",
      "Epoch=69/120, train_loss=4.96, train_acc=99.64 / test_loss=40.49, test_acc=97.47\n",
      "Epoch=70/120, train_loss=4.78, train_acc=99.64 / test_loss=40.75, test_acc=97.47\n",
      "Epoch=71/120, train_loss=4.68, train_acc=99.64 / test_loss=41.06, test_acc=97.22\n",
      "Epoch=72/120, train_loss=4.62, train_acc=99.71 / test_loss=40.19, test_acc=97.47\n",
      "Epoch=73/120, train_loss=4.57, train_acc=99.71 / test_loss=38.76, test_acc=97.47\n",
      "Epoch=74/120, train_loss=4.47, train_acc=99.71 / test_loss=42.95, test_acc=96.72\n",
      "Epoch=75/120, train_loss=4.08, train_acc=99.71 / test_loss=45.35, test_acc=96.97\n",
      "Epoch=76/120, train_loss=3.99, train_acc=99.50 / test_loss=42.82, test_acc=97.22\n",
      "Epoch=77/120, train_loss=3.90, train_acc=99.50 / test_loss=37.65, test_acc=97.73\n",
      "Epoch=78/120, train_loss=4.01, train_acc=99.50 / test_loss=37.99, test_acc=97.47\n",
      "Epoch=79/120, train_loss=4.83, train_acc=99.14 / test_loss=49.87, test_acc=96.46\n",
      "Epoch=80/120, train_loss=4.05, train_acc=99.71 / test_loss=52.92, test_acc=95.96\n",
      "Epoch=81/120, train_loss=4.22, train_acc=99.36 / test_loss=50.08, test_acc=96.21\n",
      "Epoch=82/120, train_loss=4.54, train_acc=99.43 / test_loss=38.12, test_acc=97.47\n",
      "Epoch=83/120, train_loss=3.84, train_acc=99.57 / test_loss=38.58, test_acc=98.23\n",
      "Epoch=84/120, train_loss=3.21, train_acc=99.57 / test_loss=37.28, test_acc=96.72\n",
      "Epoch=85/120, train_loss=2.73, train_acc=99.93 / test_loss=32.56, test_acc=97.98\n",
      "Epoch=86/120, train_loss=2.56, train_acc=99.93 / test_loss=32.15, test_acc=97.98\n",
      "Epoch=87/120, train_loss=2.45, train_acc=100.00 / test_loss=31.42, test_acc=97.98\n",
      "Epoch=88/120, train_loss=2.35, train_acc=99.93 / test_loss=32.01, test_acc=97.98\n",
      "Epoch=89/120, train_loss=2.26, train_acc=100.00 / test_loss=31.00, test_acc=97.98\n",
      "Epoch=90/120, train_loss=2.19, train_acc=100.00 / test_loss=31.72, test_acc=97.73\n",
      "Epoch=91/120, train_loss=2.11, train_acc=100.00 / test_loss=30.99, test_acc=98.23\n",
      "Epoch=92/120, train_loss=2.04, train_acc=100.00 / test_loss=31.39, test_acc=98.23\n",
      "Epoch=93/120, train_loss=1.98, train_acc=100.00 / test_loss=30.97, test_acc=98.23\n",
      "Epoch=94/120, train_loss=1.91, train_acc=100.00 / test_loss=31.18, test_acc=98.23\n",
      "Epoch=95/120, train_loss=1.85, train_acc=100.00 / test_loss=30.95, test_acc=98.23\n",
      "Epoch=96/120, train_loss=1.80, train_acc=100.00 / test_loss=31.04, test_acc=98.23\n",
      "Epoch=97/120, train_loss=1.74, train_acc=100.00 / test_loss=30.94, test_acc=98.23\n",
      "Epoch=98/120, train_loss=1.69, train_acc=100.00 / test_loss=30.97, test_acc=98.23\n",
      "Epoch=99/120, train_loss=1.64, train_acc=100.00 / test_loss=30.93, test_acc=98.23\n",
      "Epoch=100/120, train_loss=1.60, train_acc=100.00 / test_loss=30.94, test_acc=98.23\n",
      "Epoch=101/120, train_loss=1.55, train_acc=100.00 / test_loss=30.93, test_acc=98.23\n",
      "Epoch=102/120, train_loss=1.51, train_acc=100.00 / test_loss=30.93, test_acc=98.23\n"
     ]
    },
    {
     "name": "stdout",
     "output_type": "stream",
     "text": [
      "Epoch=103/120, train_loss=1.47, train_acc=100.00 / test_loss=30.94, test_acc=98.23\n",
      "Epoch=104/120, train_loss=1.43, train_acc=100.00 / test_loss=30.95, test_acc=98.23\n",
      "Epoch=105/120, train_loss=1.39, train_acc=100.00 / test_loss=30.97, test_acc=98.23\n",
      "Epoch=106/120, train_loss=1.36, train_acc=100.00 / test_loss=30.99, test_acc=98.23\n",
      "Epoch=107/120, train_loss=1.32, train_acc=100.00 / test_loss=31.01, test_acc=98.48\n",
      "Epoch=108/120, train_loss=1.29, train_acc=100.00 / test_loss=31.04, test_acc=98.48\n",
      "Epoch=109/120, train_loss=1.25, train_acc=100.00 / test_loss=31.07, test_acc=98.23\n",
      "Epoch=110/120, train_loss=1.22, train_acc=100.00 / test_loss=31.10, test_acc=98.23\n",
      "Epoch=111/120, train_loss=1.19, train_acc=100.00 / test_loss=31.14, test_acc=98.23\n",
      "Epoch=112/120, train_loss=1.16, train_acc=100.00 / test_loss=31.17, test_acc=98.23\n",
      "Epoch=113/120, train_loss=1.14, train_acc=100.00 / test_loss=31.21, test_acc=98.23\n",
      "Epoch=114/120, train_loss=1.11, train_acc=100.00 / test_loss=31.25, test_acc=98.23\n",
      "Epoch=115/120, train_loss=1.08, train_acc=100.00 / test_loss=31.29, test_acc=98.23\n",
      "Epoch=116/120, train_loss=1.06, train_acc=100.00 / test_loss=31.33, test_acc=98.23\n",
      "Epoch=117/120, train_loss=1.03, train_acc=100.00 / test_loss=31.38, test_acc=98.23\n",
      "Epoch=118/120, train_loss=1.01, train_acc=100.00 / test_loss=31.42, test_acc=98.23\n",
      "Epoch=119/120, train_loss=0.99, train_acc=100.00 / test_loss=31.47, test_acc=98.23\n",
      "Epoch=120/120, train_loss=0.97, train_acc=100.00 / test_loss=31.52, test_acc=98.23\n"
     ]
    }
   ],
   "source": [
    "#Iterations to do trainning\n",
    "train_loss = []\n",
    "test_loss = []\n",
    "train_acc = []\n",
    "test_acc = []\n",
    "\n",
    "for epoch in range(120):\n",
    "    \n",
    "    start=0\n",
    "    end=100\n",
    "    \n",
    "    train_loss_collector = []\n",
    "    test_loss_collector = []\n",
    "    train_acc_collector = []\n",
    "    test_acc_collector = []\n",
    "    \n",
    "    for i in range(14):\n",
    "        \n",
    "        X=X_train[start:end]\n",
    "        Y=y_train[start:end]\n",
    "        start=end\n",
    "        end=start+100 # 每次訓練100張圖片\n",
    "        _, train_loss_batch, train_acc_batch = sess.run([train_step, loss, accuracy],feed_dict={rnn._inputs:X, y:Y})\n",
    "        \n",
    "        train_loss_collector.append(train_loss_batch)\n",
    "        train_acc_collector.append(train_acc_batch)\n",
    "    #all_hidden_states_1 = sess.run(all_hidden_states, feed_dict={rnn._inputs:X})\n",
    "    \n",
    "    #outputs_1 = sess.run([outputs],feed_dict={rnn._inputs:X})\n",
    "    #last_output_1 = sess.run([last_output],feed_dict={rnn._inputs:X})\n",
    "    train_loss_collector = np.mean(train_loss_collector) # 平均一個batch的loss\n",
    "    train_acc_collector = np.mean(train_acc_collector) # 平均一個batch的acc\n",
    "    \n",
    "    train_loss.append(train_loss_collector)\n",
    "    train_acc.append(train_acc_collector)\n",
    "    \n",
    "    #Loss=str(sess.run(cross_entropy,feed_dict={rnn._inputs:X, y:Y}))\n",
    "    #Train_accuracy=sess.run(accuracy,feed_dict={rnn._inputs:X_train[:500], y:y_train[:500]})\n",
    "    \n",
    "    test_loss_=sess.run(loss,feed_dict={rnn._inputs:X_test, y:y_test})\n",
    "    test_acc_=sess.run(accuracy,feed_dict={rnn._inputs:X_test, y:y_test})\n",
    "    \n",
    "    test_loss.append(test_loss_)\n",
    "    test_acc.append(test_acc_)\n",
    "    \n",
    "    \n",
    "    print('Epoch=%d/120, train_loss=%.2f, train_acc=%.2f / test_loss=%.2f, test_acc=%.2f' % \n",
    "          (epoch+1, train_loss_collector, train_acc_collector, test_loss_, test_acc_))\n"
   ]
  },
  {
   "cell_type": "code",
   "execution_count": 16,
   "metadata": {},
   "outputs": [],
   "source": [
    "from matplotlib.pylab import rcParams\n",
    "import matplotlib.pyplot as plt\n",
    "rcParams['figure.figsize'] = (12,8)"
   ]
  },
  {
   "cell_type": "code",
   "execution_count": 17,
   "metadata": {
    "scrolled": false
   },
   "outputs": [
    {
     "data": {
      "image/png": "[encoded data removed]",
      "text/plain": [
       "<Figure size 864x576 with 2 Axes>"
      ]
     },
     "metadata": {},
     "output_type": "display_data"
    }
   ],
   "source": [
    "fig, axes = plt.subplots(1,2)\n",
    "\n",
    "axes[0].plot(np.arange(120), train_loss, label='train_loss')\n",
    "axes[0].plot(np.arange(120), test_loss, label='test_loss')\n",
    "axes[0].legend(loc='upper right',prop={'size':12})\n",
    "\n",
    "axes[1].plot(np.arange(120), train_acc, label='train_acc')\n",
    "axes[1].plot(np.arange(120), test_acc, label='test_acc')\n",
    "axes[1].legend(loc='lower right',prop={'size':12})\n",
    "\n",
    "plt.show()"
   ]
  },
  {
   "cell_type": "code",
   "execution_count": 18,
   "metadata": {},
   "outputs": [
    {
     "name": "stdout",
     "output_type": "stream",
     "text": [
      "Min train loss:0.97\n",
      "Max train accuracy:100.00\n",
      "------------------------\n",
      "Min test loss:30.93\n",
      "Max test accuracy:98.48\n"
     ]
    }
   ],
   "source": [
    "print('Min train loss:%.2f' % np.min(train_loss))\n",
    "print('Max train accuracy:%.2f' % np.max(train_acc))\n",
    "print('------------------------')\n",
    "print('Min test loss:%.2f' % np.min(test_loss))\n",
    "print('Max test accuracy:%.2f' % np.max(test_acc))"
   ]
  },
  {
   "cell_type": "code",
   "execution_count": null,
   "metadata": {},
   "outputs": [],
   "source": []
  }
 ],
 "metadata": {
  "kernelspec": {
   "display_name": "Python 3",
   "language": "python",
   "name": "python3"
  },
  "language_info": {
   "codemirror_mode": {
    "name": "ipython",
    "version": 3
   },
   "file_extension": ".py",
   "mimetype": "text/x-python",
   "name": "python",
   "nbconvert_exporter": "python",
   "pygments_lexer": "ipython3",
   "version": "3.6.6"
  }
 },
 "nbformat": 4,
 "nbformat_minor": 1
}
