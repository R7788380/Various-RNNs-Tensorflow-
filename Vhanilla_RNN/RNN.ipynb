{
 "cells": [
  {
   "cell_type": "markdown",
   "metadata": {},
   "source": [
    "# <span style=\"color:green\"> VANILLA RNN"
   ]
  },
  {
   "cell_type": "markdown",
   "metadata": {},
   "source": [
    "# Importing Libraries"
   ]
  },
  {
   "cell_type": "code",
   "execution_count": 1,
   "metadata": {},
   "outputs": [
    {
     "name": "stderr",
     "output_type": "stream",
     "text": [
      "/Library/Frameworks/Python.framework/Versions/3.6/lib/python3.6/site-packages/sklearn/cross_validation.py:41: DeprecationWarning: This module was deprecated in version 0.18 in favor of the model_selection module into which all the refactored classes and functions are moved. Also note that the interface of the new CV iterators are different from that of this module. This module will be removed in 0.20.\n",
      "  \"This module will be removed in 0.20.\", DeprecationWarning)\n"
     ]
    }
   ],
   "source": [
    "import warnings\n",
    "warnings.filterwarnings('ignore')\n",
    "import numpy as np\n",
    "import tensorflow as tf\n",
    "from sklearn.datasets import load_digits \n",
    "from sklearn.cross_validation import train_test_split\n",
    "import pylab as pl\n",
    "from IPython import display\n",
    "import sys\n",
    "%matplotlib inline"
   ]
  },
  {
   "cell_type": "markdown",
   "metadata": {},
   "source": [
    "# Vhanilla RNN class and functions\n",
    "\n",
    "$$\n",
    "\\begin{align}\n",
    "Hidden\\;state: h^t&=g(x^tU+h^{t-1}W+b) \\\\\n",
    "output\\;layer: o^t&=h^tV+c \\\\\n",
    "\\hat{y}^t&=\\text{softmax}(o^t)\n",
    "\\end{align}\n",
    "$$"
   ]
  },
  {
   "cell_type": "code",
   "execution_count": 2,
   "metadata": {},
   "outputs": [],
   "source": [
    "class RNN_cell(object):\n",
    "\n",
    "\n",
    "    def __init__(self, input_size, hidden_layer_size, target_size):\n",
    "\n",
    "        # Initialization of given values\n",
    "        self.input_size = input_size\n",
    "        self.hidden_layer_size = hidden_layer_size\n",
    "        self.target_size = target_size\n",
    "\n",
    "        # Weights and Bias for input and hidden tensor\n",
    "        self.U = tf.Variable(tf.truncated_normal(\n",
    "            [self.input_size, self.hidden_layer_size],stddev=.01))\n",
    "        self.W = tf.Variable(tf.truncated_normal(\n",
    "            [self.hidden_layer_size, self.hidden_layer_size],stddev=.01))\n",
    "        self.b = tf.Variable(tf.zeros([self.hidden_layer_size]))\n",
    "\n",
    "        # Weights for output layers\n",
    "        self.V = tf.Variable(tf.truncated_normal(\n",
    "            [self.hidden_layer_size, self.target_size],mean=0,stddev=.01))\n",
    "        self.c = tf.Variable(tf.truncated_normal([self.target_size],mean=0,stddev=.01))\n",
    "\n",
    "        # Placeholder for input vector with shape[batch, seq, embeddings]\n",
    "        self._inputs = tf.placeholder(tf.float32,\n",
    "                                      shape=[None, None, self.input_size],\n",
    "                                      name='inputs')\n",
    "\n",
    "        # Processing inputs to work with scan function\n",
    "        self.processed_input = process_batch_input_for_RNN(self._inputs)\n",
    "\n",
    "\n",
    "        self.initial_hidden = self._inputs[:, 0, :]\n",
    "        self.initial_hidden = tf.matmul(\n",
    "            self.initial_hidden, tf.zeros([input_size, hidden_layer_size]))\n",
    "\n",
    "    # Function for vhanilla RNN.\n",
    "    def vanilla_rnn(self, previous_hidden_state, x):\n",
    "\n",
    "        current_hidden_state = tf.tanh(\n",
    "            tf.matmul(previous_hidden_state, self.W) +\n",
    "            tf.matmul(x, self.U) + self.b)\n",
    "\n",
    "        return current_hidden_state\n",
    "\n",
    "    # Function for getting all hidden state.\n",
    "    def get_states(self):\n",
    "\n",
    "        # Getting all hidden state throuh time\n",
    "        all_hidden_states = tf.scan(self.vanilla_rnn,\n",
    "                                    self.processed_input,\n",
    "                                    initializer=self.initial_hidden,\n",
    "                                    name='states')\n",
    "\n",
    "        return all_hidden_states\n",
    "\n",
    "    # Function to get output from a hidden layer\n",
    "    def get_output(self, hidden_state):\n",
    "\n",
    "        output = tf.matmul(hidden_state, self.V) + self.c\n",
    "\n",
    "        return output\n",
    "\n",
    "    # Function for getting all output layers\n",
    "    def get_outputs(self):\n",
    "\n",
    "        all_hidden_states = self.get_states()\n",
    "\n",
    "        all_outputs = tf.map_fn(self.get_output, all_hidden_states)\n",
    "\n",
    "        return all_outputs\n",
    "\n",
    "\n",
    "# Function to convert batch input data to use tf.scan ops of tensorflow.\n",
    "def process_batch_input_for_RNN(batch_input):\n",
    "\n",
    "    batch_input_ = tf.transpose(batch_input, perm=[1, 0, 2])\n",
    "    X = tf.transpose(batch_input_)\n",
    "\n",
    "    return X\n"
   ]
  },
  {
   "cell_type": "markdown",
   "metadata": {},
   "source": [
    "# Placeholder and initializers\n"
   ]
  },
  {
   "cell_type": "code",
   "execution_count": 3,
   "metadata": {},
   "outputs": [],
   "source": [
    "hidden_layer_size = 50\n",
    "input_size = 8\n",
    "target_size = 10"
   ]
  },
  {
   "cell_type": "code",
   "execution_count": 4,
   "metadata": {},
   "outputs": [],
   "source": [
    "y = tf.placeholder(tf.float32, shape=[None, target_size],name='inputs')"
   ]
  },
  {
   "cell_type": "markdown",
   "metadata": {},
   "source": [
    "# Models"
   ]
  },
  {
   "cell_type": "code",
   "execution_count": 5,
   "metadata": {},
   "outputs": [],
   "source": [
    "#Initializing rnn object\n",
    "rnn=RNN_cell( input_size, hidden_layer_size, target_size)"
   ]
  },
  {
   "cell_type": "code",
   "execution_count": 6,
   "metadata": {},
   "outputs": [],
   "source": [
    "#Getting all outputs from rnn\n",
    "outputs = rnn.get_outputs()"
   ]
  },
  {
   "cell_type": "code",
   "execution_count": 7,
   "metadata": {},
   "outputs": [],
   "source": [
    "#Getting final output through indexing after reversing\n",
    "last_output = outputs[-1]"
   ]
  },
  {
   "cell_type": "code",
   "execution_count": 8,
   "metadata": {},
   "outputs": [],
   "source": [
    "#Computing the Cross Entropy loss\n",
    "loss = tf.reduce_sum(tf.nn.softmax_cross_entropy_with_logits_v2(logits=last_output, labels=y))"
   ]
  },
  {
   "cell_type": "code",
   "execution_count": 9,
   "metadata": {},
   "outputs": [],
   "source": [
    "# Trainning with Adadelta Optimizer\n",
    "train_step = tf.train.AdamOptimizer().minimize(loss)"
   ]
  },
  {
   "cell_type": "code",
   "execution_count": 10,
   "metadata": {},
   "outputs": [],
   "source": [
    "#Calculatio of correct prediction and accuracy\n",
    "correct_prediction = tf.equal(tf.argmax(y,1), tf.argmax(last_output,1))\n",
    "accuracy = (tf.reduce_mean(tf.cast(correct_prediction, tf.float32)))*100"
   ]
  },
  {
   "cell_type": "markdown",
   "metadata": {},
   "source": [
    "# Dataset Preparation"
   ]
  },
  {
   "cell_type": "code",
   "execution_count": 11,
   "metadata": {},
   "outputs": [],
   "source": [
    "#Function to get on hot\n",
    "def get_on_hot(number):\n",
    "    on_hot=[0]*10\n",
    "    on_hot[number]=1\n",
    "    return on_hot"
   ]
  },
  {
   "cell_type": "code",
   "execution_count": 12,
   "metadata": {},
   "outputs": [],
   "source": [
    "#Using Sklearn MNIST dataset.\n",
    "digits = load_digits()\n",
    "X=digits.images\n",
    "Y_=digits.target\n",
    "\n",
    "# One hot encoding\n",
    "Y=list(map(get_on_hot,Y_))"
   ]
  },
  {
   "cell_type": "code",
   "execution_count": 13,
   "metadata": {},
   "outputs": [],
   "source": [
    "#Getting Train and test Dataset\n",
    "X_train, X_test, y_train, y_test = train_test_split(X, Y, test_size=0.22, random_state=42)\n",
    "\n",
    "#Cuttting for simple iteration\n",
    "X_train=X_train[:1400]\n",
    "y_train=y_train[:1400]"
   ]
  },
  {
   "cell_type": "code",
   "execution_count": 14,
   "metadata": {},
   "outputs": [],
   "source": [
    "sess=tf.Session()\n",
    "sess.run(tf.global_variables_initializer())"
   ]
  },
  {
   "cell_type": "code",
   "execution_count": 15,
   "metadata": {
    "scrolled": true
   },
   "outputs": [
    {
     "name": "stdout",
     "output_type": "stream",
     "text": [
      "Epoch=1/120, train_loss=229.35, train_acc=18.71 / test_loss=898.00, test_acc=27.27\n",
      "Epoch=2/120, train_loss=219.29, train_acc=29.00 / test_loss=819.15, test_acc=28.03\n",
      "Epoch=3/120, train_loss=196.46, train_acc=28.64 / test_loss=741.16, test_acc=25.00\n",
      "Epoch=4/120, train_loss=180.72, train_acc=30.64 / test_loss=689.51, test_acc=31.57\n",
      "Epoch=5/120, train_loss=165.69, train_acc=40.07 / test_loss=624.87, test_acc=43.43\n",
      "Epoch=6/120, train_loss=149.31, train_acc=49.86 / test_loss=565.20, test_acc=52.78\n",
      "Epoch=7/120, train_loss=135.50, train_acc=55.29 / test_loss=516.60, test_acc=57.07\n",
      "Epoch=8/120, train_loss=123.87, train_acc=59.36 / test_loss=472.28, test_acc=63.13\n",
      "Epoch=9/120, train_loss=113.17, train_acc=64.79 / test_loss=430.08, test_acc=66.67\n",
      "Epoch=10/120, train_loss=103.26, train_acc=68.86 / test_loss=391.25, test_acc=70.96\n",
      "Epoch=11/120, train_loss=94.34, train_acc=71.86 / test_loss=356.85, test_acc=73.48\n",
      "Epoch=12/120, train_loss=86.46, train_acc=74.50 / test_loss=325.89, test_acc=76.01\n",
      "Epoch=13/120, train_loss=79.46, train_acc=77.43 / test_loss=297.21, test_acc=79.80\n",
      "Epoch=14/120, train_loss=73.16, train_acc=79.36 / test_loss=271.15, test_acc=83.08\n",
      "Epoch=15/120, train_loss=67.47, train_acc=81.50 / test_loss=248.59, test_acc=83.59\n",
      "Epoch=16/120, train_loss=62.40, train_acc=82.57 / test_loss=229.24, test_acc=84.34\n",
      "Epoch=17/120, train_loss=58.09, train_acc=83.36 / test_loss=212.23, test_acc=86.62\n",
      "Epoch=18/120, train_loss=54.61, train_acc=84.21 / test_loss=202.50, test_acc=85.61\n",
      "Epoch=19/120, train_loss=51.01, train_acc=84.86 / test_loss=197.33, test_acc=84.85\n",
      "Epoch=20/120, train_loss=47.36, train_acc=85.64 / test_loss=175.60, test_acc=88.13\n",
      "Epoch=21/120, train_loss=44.15, train_acc=86.29 / test_loss=167.28, test_acc=88.64\n",
      "Epoch=22/120, train_loss=41.83, train_acc=87.36 / test_loss=161.17, test_acc=88.64\n",
      "Epoch=23/120, train_loss=39.46, train_acc=88.36 / test_loss=151.99, test_acc=89.39\n",
      "Epoch=24/120, train_loss=37.22, train_acc=88.64 / test_loss=144.05, test_acc=89.90\n",
      "Epoch=25/120, train_loss=35.24, train_acc=89.79 / test_loss=138.07, test_acc=90.15\n",
      "Epoch=26/120, train_loss=33.47, train_acc=90.07 / test_loss=133.10, test_acc=90.66\n",
      "Epoch=27/120, train_loss=31.80, train_acc=90.71 / test_loss=128.24, test_acc=90.91\n",
      "Epoch=28/120, train_loss=30.20, train_acc=91.36 / test_loss=123.14, test_acc=91.16\n",
      "Epoch=29/120, train_loss=28.63, train_acc=92.00 / test_loss=118.04, test_acc=91.92\n",
      "Epoch=30/120, train_loss=27.08, train_acc=92.93 / test_loss=113.19, test_acc=92.42\n",
      "Epoch=31/120, train_loss=25.57, train_acc=93.71 / test_loss=108.82, test_acc=92.68\n",
      "Epoch=32/120, train_loss=24.16, train_acc=94.21 / test_loss=104.97, test_acc=92.93\n",
      "Epoch=33/120, train_loss=22.87, train_acc=94.57 / test_loss=101.45, test_acc=93.18\n",
      "Epoch=34/120, train_loss=21.64, train_acc=94.71 / test_loss=97.45, test_acc=93.69\n",
      "Epoch=35/120, train_loss=20.29, train_acc=95.50 / test_loss=93.39, test_acc=94.19\n",
      "Epoch=36/120, train_loss=18.87, train_acc=95.86 / test_loss=89.93, test_acc=94.19\n",
      "Epoch=37/120, train_loss=17.63, train_acc=96.50 / test_loss=86.93, test_acc=94.19\n",
      "Epoch=38/120, train_loss=16.58, train_acc=96.64 / test_loss=85.53, test_acc=94.70\n",
      "Epoch=39/120, train_loss=15.66, train_acc=96.64 / test_loss=83.59, test_acc=94.95\n",
      "Epoch=40/120, train_loss=14.67, train_acc=97.07 / test_loss=79.24, test_acc=95.20\n",
      "Epoch=41/120, train_loss=13.50, train_acc=97.50 / test_loss=76.57, test_acc=95.71\n",
      "Epoch=42/120, train_loss=12.53, train_acc=97.57 / test_loss=74.61, test_acc=95.71\n",
      "Epoch=43/120, train_loss=11.74, train_acc=98.14 / test_loss=74.43, test_acc=95.71\n",
      "Epoch=44/120, train_loss=11.04, train_acc=98.14 / test_loss=73.29, test_acc=96.21\n",
      "Epoch=45/120, train_loss=10.38, train_acc=98.29 / test_loss=69.87, test_acc=96.21\n",
      "Epoch=46/120, train_loss=9.59, train_acc=98.71 / test_loss=68.12, test_acc=96.21\n",
      "Epoch=47/120, train_loss=8.90, train_acc=99.21 / test_loss=67.61, test_acc=96.46\n",
      "Epoch=48/120, train_loss=8.37, train_acc=99.21 / test_loss=67.38, test_acc=96.46\n",
      "Epoch=49/120, train_loss=7.87, train_acc=99.14 / test_loss=65.39, test_acc=96.46\n",
      "Epoch=50/120, train_loss=7.36, train_acc=99.36 / test_loss=63.57, test_acc=96.72\n",
      "Epoch=51/120, train_loss=6.90, train_acc=99.50 / test_loss=62.71, test_acc=96.72\n",
      "Epoch=52/120, train_loss=6.49, train_acc=99.57 / test_loss=61.78, test_acc=96.46\n",
      "Epoch=53/120, train_loss=6.10, train_acc=99.57 / test_loss=60.46, test_acc=96.46\n",
      "Epoch=54/120, train_loss=5.75, train_acc=99.57 / test_loss=59.48, test_acc=96.46\n",
      "Epoch=55/120, train_loss=5.44, train_acc=99.64 / test_loss=59.26, test_acc=96.46\n",
      "Epoch=56/120, train_loss=5.14, train_acc=99.64 / test_loss=59.50, test_acc=96.46\n",
      "Epoch=57/120, train_loss=4.88, train_acc=99.71 / test_loss=59.79, test_acc=96.46\n",
      "Epoch=58/120, train_loss=4.65, train_acc=99.71 / test_loss=59.85, test_acc=96.46\n",
      "Epoch=59/120, train_loss=4.44, train_acc=99.79 / test_loss=59.52, test_acc=96.46\n",
      "Epoch=60/120, train_loss=4.25, train_acc=99.79 / test_loss=59.10, test_acc=96.46\n",
      "Epoch=61/120, train_loss=4.08, train_acc=99.86 / test_loss=58.74, test_acc=96.46\n",
      "Epoch=62/120, train_loss=3.91, train_acc=99.86 / test_loss=58.56, test_acc=96.46\n",
      "Epoch=63/120, train_loss=3.77, train_acc=99.86 / test_loss=58.56, test_acc=96.46\n",
      "Epoch=64/120, train_loss=3.64, train_acc=99.86 / test_loss=58.76, test_acc=96.46\n",
      "Epoch=65/120, train_loss=3.53, train_acc=99.86 / test_loss=58.99, test_acc=96.72\n",
      "Epoch=66/120, train_loss=3.44, train_acc=99.86 / test_loss=59.31, test_acc=96.72\n",
      "Epoch=67/120, train_loss=3.36, train_acc=99.86 / test_loss=59.64, test_acc=96.72\n",
      "Epoch=68/120, train_loss=3.29, train_acc=99.86 / test_loss=60.23, test_acc=96.21\n",
      "Epoch=69/120, train_loss=3.24, train_acc=99.86 / test_loss=60.97, test_acc=96.72\n",
      "Epoch=70/120, train_loss=3.19, train_acc=99.86 / test_loss=62.08, test_acc=96.46\n",
      "Epoch=71/120, train_loss=3.17, train_acc=99.86 / test_loss=63.38, test_acc=96.72\n",
      "Epoch=72/120, train_loss=3.16, train_acc=99.86 / test_loss=65.03, test_acc=96.46\n",
      "Epoch=73/120, train_loss=3.17, train_acc=99.86 / test_loss=66.89, test_acc=96.21\n",
      "Epoch=74/120, train_loss=3.18, train_acc=99.86 / test_loss=69.06, test_acc=96.21\n",
      "Epoch=75/120, train_loss=3.21, train_acc=99.86 / test_loss=71.52, test_acc=96.21\n",
      "Epoch=76/120, train_loss=3.26, train_acc=99.86 / test_loss=74.36, test_acc=95.96\n",
      "Epoch=77/120, train_loss=3.35, train_acc=99.86 / test_loss=77.82, test_acc=94.95\n",
      "Epoch=78/120, train_loss=3.46, train_acc=99.86 / test_loss=82.66, test_acc=93.94\n",
      "Epoch=79/120, train_loss=3.57, train_acc=99.86 / test_loss=89.00, test_acc=93.18\n",
      "Epoch=80/120, train_loss=3.72, train_acc=99.71 / test_loss=92.75, test_acc=93.18\n",
      "Epoch=81/120, train_loss=4.17, train_acc=99.57 / test_loss=92.76, test_acc=93.69\n",
      "Epoch=82/120, train_loss=5.21, train_acc=99.07 / test_loss=102.86, test_acc=93.43\n",
      "Epoch=83/120, train_loss=5.43, train_acc=98.86 / test_loss=101.00, test_acc=92.42\n",
      "Epoch=84/120, train_loss=8.54, train_acc=97.14 / test_loss=77.40, test_acc=95.20\n",
      "Epoch=85/120, train_loss=10.04, train_acc=96.79 / test_loss=60.35, test_acc=96.46\n",
      "Epoch=86/120, train_loss=11.24, train_acc=95.93 / test_loss=67.02, test_acc=96.72\n",
      "Epoch=87/120, train_loss=9.29, train_acc=97.29 / test_loss=76.23, test_acc=95.45\n",
      "Epoch=88/120, train_loss=4.38, train_acc=99.07 / test_loss=52.32, test_acc=97.22\n",
      "Epoch=89/120, train_loss=3.00, train_acc=99.36 / test_loss=60.13, test_acc=96.46\n",
      "Epoch=90/120, train_loss=2.16, train_acc=99.79 / test_loss=51.41, test_acc=97.73\n",
      "Epoch=91/120, train_loss=1.88, train_acc=99.86 / test_loss=53.64, test_acc=96.97\n",
      "Epoch=92/120, train_loss=1.65, train_acc=99.86 / test_loss=51.82, test_acc=97.47\n",
      "Epoch=93/120, train_loss=1.52, train_acc=99.86 / test_loss=50.76, test_acc=97.22\n",
      "Epoch=94/120, train_loss=1.39, train_acc=99.86 / test_loss=51.03, test_acc=97.47\n",
      "Epoch=95/120, train_loss=1.29, train_acc=99.86 / test_loss=50.58, test_acc=97.73\n",
      "Epoch=96/120, train_loss=1.20, train_acc=99.93 / test_loss=50.60, test_acc=97.73\n",
      "Epoch=97/120, train_loss=1.13, train_acc=100.00 / test_loss=50.58, test_acc=97.73\n",
      "Epoch=98/120, train_loss=1.07, train_acc=100.00 / test_loss=50.49, test_acc=97.73\n",
      "Epoch=99/120, train_loss=1.02, train_acc=100.00 / test_loss=50.51, test_acc=97.73\n",
      "Epoch=100/120, train_loss=0.98, train_acc=100.00 / test_loss=50.50, test_acc=97.98\n",
      "Epoch=101/120, train_loss=0.94, train_acc=100.00 / test_loss=50.56, test_acc=97.98\n"
     ]
    },
    {
     "name": "stdout",
     "output_type": "stream",
     "text": [
      "Epoch=102/120, train_loss=0.90, train_acc=100.00 / test_loss=50.61, test_acc=97.98\n",
      "Epoch=103/120, train_loss=0.87, train_acc=100.00 / test_loss=50.68, test_acc=97.98\n",
      "Epoch=104/120, train_loss=0.84, train_acc=100.00 / test_loss=50.76, test_acc=97.98\n",
      "Epoch=105/120, train_loss=0.82, train_acc=100.00 / test_loss=50.85, test_acc=97.98\n",
      "Epoch=106/120, train_loss=0.79, train_acc=100.00 / test_loss=50.94, test_acc=97.98\n",
      "Epoch=107/120, train_loss=0.77, train_acc=100.00 / test_loss=51.03, test_acc=97.98\n",
      "Epoch=108/120, train_loss=0.74, train_acc=100.00 / test_loss=51.12, test_acc=97.98\n",
      "Epoch=109/120, train_loss=0.72, train_acc=100.00 / test_loss=51.21, test_acc=97.98\n",
      "Epoch=110/120, train_loss=0.70, train_acc=100.00 / test_loss=51.31, test_acc=97.98\n",
      "Epoch=111/120, train_loss=0.68, train_acc=100.00 / test_loss=51.40, test_acc=97.98\n",
      "Epoch=112/120, train_loss=0.66, train_acc=100.00 / test_loss=51.49, test_acc=97.98\n",
      "Epoch=113/120, train_loss=0.65, train_acc=100.00 / test_loss=51.59, test_acc=97.98\n",
      "Epoch=114/120, train_loss=0.63, train_acc=100.00 / test_loss=51.68, test_acc=97.98\n",
      "Epoch=115/120, train_loss=0.62, train_acc=100.00 / test_loss=51.77, test_acc=97.98\n",
      "Epoch=116/120, train_loss=0.60, train_acc=100.00 / test_loss=51.86, test_acc=97.98\n",
      "Epoch=117/120, train_loss=0.59, train_acc=100.00 / test_loss=51.95, test_acc=97.98\n",
      "Epoch=118/120, train_loss=0.57, train_acc=100.00 / test_loss=52.04, test_acc=97.98\n",
      "Epoch=119/120, train_loss=0.56, train_acc=100.00 / test_loss=52.13, test_acc=97.98\n",
      "Epoch=120/120, train_loss=0.55, train_acc=100.00 / test_loss=52.22, test_acc=97.98\n"
     ]
    }
   ],
   "source": [
    "#Iterations to do trainning\n",
    "train_loss = []\n",
    "test_loss = []\n",
    "train_acc = []\n",
    "test_acc = []\n",
    "\n",
    "for epoch in range(120):\n",
    "    \n",
    "    start=0\n",
    "    end=100\n",
    "    \n",
    "    train_loss_collector = []\n",
    "    test_loss_collector = []\n",
    "    train_acc_collector = []\n",
    "    test_acc_collector = []\n",
    "    \n",
    "    for i in range(14):\n",
    "        \n",
    "        X=X_train[start:end]\n",
    "        Y=y_train[start:end]\n",
    "        start=end\n",
    "        end=start+100 # 每次訓練100張圖片\n",
    "        _, train_loss_batch, train_acc_batch = sess.run([train_step, loss, accuracy],feed_dict={rnn._inputs:X, y:Y})\n",
    "        \n",
    "        train_loss_collector.append(train_loss_batch)\n",
    "        train_acc_collector.append(train_acc_batch)\n",
    "    \n",
    "    train_loss_collector = np.mean(train_loss_collector) # 平均一個batch的loss\n",
    "    train_acc_collector = np.mean(train_acc_collector) # 平均一個batch的acc\n",
    "    \n",
    "    train_loss.append(train_loss_collector)\n",
    "    train_acc.append(train_acc_collector)\n",
    "    \n",
    "    test_loss_=sess.run(loss,feed_dict={rnn._inputs:X_test, y:y_test})\n",
    "    test_acc_=sess.run(accuracy,feed_dict={rnn._inputs:X_test, y:y_test})\n",
    "    \n",
    "    test_loss.append(test_loss_)\n",
    "    test_acc.append(test_acc_)\n",
    "    \n",
    "    print('Epoch=%d/120, train_loss=%.2f, train_acc=%.2f / test_loss=%.2f, test_acc=%.2f' % \n",
    "          (epoch+1, train_loss_collector, train_acc_collector, test_loss_, test_acc_))"
   ]
  },
  {
   "cell_type": "code",
   "execution_count": 16,
   "metadata": {},
   "outputs": [],
   "source": [
    "from matplotlib.pylab import rcParams\n",
    "import matplotlib.pyplot as plt\n",
    "rcParams['figure.figsize'] = (12,8)"
   ]
  },
  {
   "cell_type": "code",
   "execution_count": 17,
   "metadata": {},
   "outputs": [
    {
     "data": {
      "image/png": "[encoded data removed]",
      "text/plain": [
       "<Figure size 864x576 with 2 Axes>"
      ]
     },
     "metadata": {},
     "output_type": "display_data"
    }
   ],
   "source": [
    "fig, axes = plt.subplots(1,2)\n",
    "\n",
    "axes[0].plot(np.arange(120), train_loss, label='train_loss')\n",
    "axes[0].plot(np.arange(120), test_loss, label='test_loss')\n",
    "axes[0].legend(loc='upper right',prop={'size':12})\n",
    "\n",
    "axes[1].plot(np.arange(120), train_acc, label='train_acc')\n",
    "axes[1].plot(np.arange(120), test_acc, label='test_acc')\n",
    "axes[1].legend(loc='lower right',prop={'size':12})\n",
    "\n",
    "plt.show()"
   ]
  },
  {
   "cell_type": "code",
   "execution_count": 18,
   "metadata": {},
   "outputs": [
    {
     "name": "stdout",
     "output_type": "stream",
     "text": [
      "Min train loss:0.55\n",
      "Max train accuracy:100.00\n",
      "------------------------\n",
      "Min test loss:50.49\n",
      "Max test accuracy:97.98\n"
     ]
    }
   ],
   "source": [
    "print('Min train loss:%.2f' % np.min(train_loss))\n",
    "print('Max train accuracy:%.2f' % np.max(train_acc))\n",
    "print('------------------------')\n",
    "print('Min test loss:%.2f' % np.min(test_loss))\n",
    "print('Max test accuracy:%.2f' % np.max(test_acc))"
   ]
  },
  {
   "cell_type": "code",
   "execution_count": null,
   "metadata": {},
   "outputs": [],
   "source": []
  }
 ],
 "metadata": {
  "kernelspec": {
   "display_name": "Python 3",
   "language": "python",
   "name": "python3"
  },
  "language_info": {
   "codemirror_mode": {
    "name": "ipython",
    "version": 3
   },
   "file_extension": ".py",
   "mimetype": "text/x-python",
   "name": "python",
   "nbconvert_exporter": "python",
   "pygments_lexer": "ipython3",
   "version": "3.6.6"
  }
 },
 "nbformat": 4,
 "nbformat_minor": 1
}
